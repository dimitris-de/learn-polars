{
 "cells": [
  {
   "cell_type": "markdown",
   "metadata": {},
   "source": [
    "# Return Attribution Analysis\n",
    "\n",
    "This notebook demonstrates return attribution by asset type and region using Polars."
   ]
  },
  {
   "cell_type": "code",
   "execution_count": null,
   "metadata": {
    "execution": {
     "iopub.execute_input": "2025-04-21T16:59:43.685816Z",
     "iopub.status.busy": "2025-04-21T16:59:43.685416Z",
     "iopub.status.idle": "2025-04-21T16:59:44.446201Z",
     "shell.execute_reply": "2025-04-21T16:59:44.444900Z"
    }
   },
   "outputs": [],
   "source": [
    "import os\n",
    "import polars as pl\n",
    "import matplotlib.pyplot as plt\n"
   ]
  },
  {
   "cell_type": "markdown",
   "metadata": {},
   "source": [
    "## 1. Load Data\n"
   ]
  },
  {
   "cell_type": "code",
   "execution_count": null,
   "metadata": {
    "execution": {
     "iopub.execute_input": "2025-04-21T16:59:44.450397Z",
     "iopub.status.busy": "2025-04-21T16:59:44.449934Z",
     "iopub.status.idle": "2025-04-21T16:59:44.461840Z",
     "shell.execute_reply": "2025-04-21T16:59:44.460615Z"
    }
   },
   "outputs": [],
   "source": [
    "datasets_dir = os.path.abspath(os.path.join('..', 'datasets'))\n",
    "tx = pl.read_csv(f'{datasets_dir}/cleaned_transactions.csv')\n",
    "assets = pl.read_parquet(f'{datasets_dir}/assets.parquet')\n",
    "benchmarks = pl.read_csv(f'{datasets_dir}/benchmarks.csv')\n"
   ]
  },
  {
   "cell_type": "markdown",
   "metadata": {},
   "source": [
    "## 2. Join and Trade Value Calculation\n"
   ]
  },
  {
   "cell_type": "code",
   "execution_count": null,
   "metadata": {
    "execution": {
     "iopub.execute_input": "2025-04-21T16:59:44.466104Z",
     "iopub.status.busy": "2025-04-21T16:59:44.465738Z",
     "iopub.status.idle": "2025-04-21T16:59:44.472756Z",
     "shell.execute_reply": "2025-04-21T16:59:44.471647Z"
    }
   },
   "outputs": [],
   "source": [
    "df = tx.join(assets, on='asset_id', how='inner')\n",
    "df = df.with_columns([(pl.col('amount') * pl.col('price')).alias('trade_value')])\n"
   ]
  },
  {
   "cell_type": "markdown",
   "metadata": {},
   "source": [
    "## 3. Attribution by Asset Type\n"
   ]
  },
  {
   "cell_type": "code",
   "execution_count": null,
   "metadata": {
    "execution": {
     "iopub.execute_input": "2025-04-21T16:59:44.476917Z",
     "iopub.status.busy": "2025-04-21T16:59:44.476529Z",
     "iopub.status.idle": "2025-04-21T16:59:44.485568Z",
     "shell.execute_reply": "2025-04-21T16:59:44.484441Z"
    }
   },
   "outputs": [],
   "source": [
    "asset_type_attr = (\n",
    "    df.group_by('asset_type')\n",
    "      .agg([pl.sum('trade_value').alias('total_value'), pl.count().alias('num_trades')])\n",
    ")\n",
    "total = asset_type_attr['total_value'].sum()\n",
    "asset_type_attr = asset_type_attr.with_columns([(pl.col('total_value') / total * 100).alias('pct_attribution')])\n",
    "print('Return attribution by asset type:')\n",
    "print(asset_type_attr)\n"
   ]
  },
  {
   "cell_type": "markdown",
   "metadata": {},
   "source": [
    "## 4. Attribution by Region\n"
   ]
  },
  {
   "cell_type": "code",
   "execution_count": null,
   "metadata": {
    "execution": {
     "iopub.execute_input": "2025-04-21T16:59:44.489792Z",
     "iopub.status.busy": "2025-04-21T16:59:44.489288Z",
     "iopub.status.idle": "2025-04-21T16:59:44.497080Z",
     "shell.execute_reply": "2025-04-21T16:59:44.496065Z"
    }
   },
   "outputs": [],
   "source": [
    "region_attr = (\n",
    "    df.group_by('region')\n",
    "      .agg([pl.sum('trade_value').alias('total_value'), pl.count().alias('num_trades')])\n",
    ")\n",
    "region_attr = region_attr.with_columns([(pl.col('total_value') / total * 100).alias('pct_attribution')])\n",
    "print('Return attribution by region:')\n",
    "print(region_attr)\n"
   ]
  },
  {
   "cell_type": "markdown",
   "metadata": {},
   "source": [
    "## 5. Save Results\n"
   ]
  },
  {
   "cell_type": "code",
   "execution_count": null,
   "metadata": {
    "execution": {
     "iopub.execute_input": "2025-04-21T16:59:44.501277Z",
     "iopub.status.busy": "2025-04-21T16:59:44.500559Z",
     "iopub.status.idle": "2025-04-21T16:59:44.507248Z",
     "shell.execute_reply": "2025-04-21T16:59:44.506400Z"
    }
   },
   "outputs": [],
   "source": [
    "asset_type_attr.write_csv(f'{datasets_dir}/asset_type_attribution.csv')\n",
    "region_attr.write_csv(f'{datasets_dir}/region_attribution.csv')\n",
    "print('Saved attribution results to CSV.')\n"
   ]
  }
 ],
 "metadata": {
  "kernelspec": {
   "display_name": "Python 3",
   "language": "python",
   "name": "python3"
  },
  "language_info": {
   "codemirror_mode": {
    "name": "ipython",
    "version": 3
   },
   "file_extension": ".py",
   "mimetype": "text/x-python",
   "name": "python",
   "nbconvert_exporter": "python",
   "pygments_lexer": "ipython3",
   "version": "3.9.0"
  }
 },
 "nbformat": 4,
 "nbformat_minor": 2
}

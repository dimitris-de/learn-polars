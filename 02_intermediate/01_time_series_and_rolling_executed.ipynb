{
 "cells": [
  {
   "cell_type": "markdown",
   "metadata": {},
   "source": [
    "# Time Series Analysis and Rolling Statistics\n",
    "\n",
    "This notebook demonstrates time series analysis and rolling window calculations using Polars."
   ]
  },
  {
   "cell_type": "code",
   "execution_count": null,
   "metadata": {
    "execution": {
     "iopub.execute_input": "2025-04-21T16:59:33.325435Z",
     "iopub.status.busy": "2025-04-21T16:59:33.324718Z",
     "iopub.status.idle": "2025-04-21T16:59:34.088588Z",
     "shell.execute_reply": "2025-04-21T16:59:34.087420Z"
    }
   },
   "outputs": [],
   "source": [
    "import os\n",
    "import polars as pl\n",
    "import matplotlib.pyplot as plt\n"
   ]
  },
  {
   "cell_type": "markdown",
   "metadata": {},
   "source": [
    "## 1. Load Benchmark Data\n"
   ]
  },
  {
   "cell_type": "code",
   "execution_count": null,
   "metadata": {
    "execution": {
     "iopub.execute_input": "2025-04-21T16:59:34.093051Z",
     "iopub.status.busy": "2025-04-21T16:59:34.092451Z",
     "iopub.status.idle": "2025-04-21T16:59:34.111386Z",
     "shell.execute_reply": "2025-04-21T16:59:34.110484Z"
    }
   },
   "outputs": [],
   "source": [
    "datasets_dir = os.path.abspath(os.path.join('..', 'datasets'))\n",
    "benchmarks = pl.read_csv(f'{datasets_dir}/benchmarks.csv')\n",
    "benchmarks = benchmarks.with_columns([pl.col('date').str.strptime(pl.Datetime, format='%Y-%m-%dT%H:%M:%S%.f').alias('date')])\n",
    "benchmarks = benchmarks.sort('date')\n",
    "benchmarks.head()\n"
   ]
  },
  {
   "cell_type": "markdown",
   "metadata": {},
   "source": [
    "## 2. Rolling Statistics\n",
    "Calculate rolling mean and standard deviation."
   ]
  },
  {
   "cell_type": "code",
   "execution_count": null,
   "metadata": {
    "execution": {
     "iopub.execute_input": "2025-04-21T16:59:34.115599Z",
     "iopub.status.busy": "2025-04-21T16:59:34.114901Z",
     "iopub.status.idle": "2025-04-21T16:59:34.122035Z",
     "shell.execute_reply": "2025-04-21T16:59:34.121137Z"
    }
   },
   "outputs": [],
   "source": [
    "rolling_stats = benchmarks.with_columns([\n",
    "    pl.col('benchmark_return').rolling_mean(window_size=7).alias('rolling_mean_7d'),\n",
    "    pl.col('benchmark_return').rolling_std(window_size=30).alias('rolling_std_30d')\n",
    "])\n",
    "print(rolling_stats.tail())\n"
   ]
  },
  {
   "cell_type": "markdown",
   "metadata": {},
   "source": [
    "## 3. Exponentially Weighted Moving Average (EWMA)\n"
   ]
  },
  {
   "cell_type": "code",
   "execution_count": null,
   "metadata": {
    "execution": {
     "iopub.execute_input": "2025-04-21T16:59:34.125932Z",
     "iopub.status.busy": "2025-04-21T16:59:34.125541Z",
     "iopub.status.idle": "2025-04-21T16:59:34.133689Z",
     "shell.execute_reply": "2025-04-21T16:59:34.132835Z"
    }
   },
   "outputs": [],
   "source": [
    "rolling_stats = rolling_stats.with_columns([pl.col('benchmark_return').ewm_mean(alpha=0.2).alias('ewma_alpha_0.2')])\n",
    "rolling_stats.tail()\n"
   ]
  },
  {
   "cell_type": "markdown",
   "metadata": {},
   "source": [
    "## 4. Save Results\n"
   ]
  },
  {
   "cell_type": "code",
   "execution_count": null,
   "metadata": {
    "execution": {
     "iopub.execute_input": "2025-04-21T16:59:34.137611Z",
     "iopub.status.busy": "2025-04-21T16:59:34.137232Z",
     "iopub.status.idle": "2025-04-21T16:59:34.144624Z",
     "shell.execute_reply": "2025-04-21T16:59:34.143694Z"
    }
   },
   "outputs": [],
   "source": [
    "rolling_stats.write_parquet(f'{datasets_dir}/rolling_benchmarks.parquet')\n",
    "print('Saved rolling statistics to parquet.')\n"
   ]
  }
 ],
 "metadata": {
  "kernelspec": {
   "display_name": "Python 3",
   "language": "python",
   "name": "python3"
  },
  "language_info": {
   "codemirror_mode": {
    "name": "ipython",
    "version": 3
   },
   "file_extension": ".py",
   "mimetype": "text/x-python",
   "name": "python",
   "nbconvert_exporter": "python",
   "pygments_lexer": "ipython3",
   "version": "3.9.0"
  }
 },
 "nbformat": 4,
 "nbformat_minor": 2
}

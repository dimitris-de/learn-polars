{
 "cells": [
  {
   "cell_type": "markdown",
   "metadata": {},
   "source": [
    "# Portfolio Performance Analysis\n",
    "\n",
    "This notebook analyzes daily portfolio performance using Polars."
   ]
  },
  {
   "cell_type": "code",
   "execution_count": null,
   "metadata": {
    "execution": {
     "iopub.execute_input": "2025-04-21T16:59:38.476719Z",
     "iopub.status.busy": "2025-04-21T16:59:38.476311Z",
     "iopub.status.idle": "2025-04-21T16:59:39.242465Z",
     "shell.execute_reply": "2025-04-21T16:59:39.241239Z"
    }
   },
   "outputs": [],
   "source": [
    "import os\n",
    "import polars as pl\n",
    "import numpy as np\n",
    "import matplotlib.pyplot as plt\n"
   ]
  },
  {
   "cell_type": "markdown",
   "metadata": {},
   "source": [
    "## 1. Load Data\n"
   ]
  },
  {
   "cell_type": "code",
   "execution_count": null,
   "metadata": {
    "execution": {
     "iopub.execute_input": "2025-04-21T16:59:39.246808Z",
     "iopub.status.busy": "2025-04-21T16:59:39.246331Z",
     "iopub.status.idle": "2025-04-21T16:59:39.257174Z",
     "shell.execute_reply": "2025-04-21T16:59:39.256041Z"
    }
   },
   "outputs": [],
   "source": [
    "datasets_dir = os.path.abspath(os.path.join('..', 'datasets'))\n",
    "tx = pl.read_csv(f'{datasets_dir}/cleaned_transactions.csv')\n",
    "assets = pl.read_parquet(f'{datasets_dir}/assets.parquet')\n"
   ]
  },
  {
   "cell_type": "markdown",
   "metadata": {},
   "source": [
    "## 2. Join and Calculate Trade Value\n"
   ]
  },
  {
   "cell_type": "code",
   "execution_count": null,
   "metadata": {
    "execution": {
     "iopub.execute_input": "2025-04-21T16:59:39.261515Z",
     "iopub.status.busy": "2025-04-21T16:59:39.261081Z",
     "iopub.status.idle": "2025-04-21T16:59:39.267957Z",
     "shell.execute_reply": "2025-04-21T16:59:39.266766Z"
    }
   },
   "outputs": [],
   "source": [
    "df = tx.join(assets, on='asset_id', how='inner')\n",
    "df = df.with_columns((pl.col('amount') * pl.col('price')).alias('trade_value'))\n"
   ]
  },
  {
   "cell_type": "markdown",
   "metadata": {},
   "source": [
    "## 3. Date Handling\n",
    "Ensure date is parsed and extract trade_date."
   ]
  },
  {
   "cell_type": "code",
   "execution_count": null,
   "metadata": {
    "execution": {
     "iopub.execute_input": "2025-04-21T16:59:39.272285Z",
     "iopub.status.busy": "2025-04-21T16:59:39.271566Z",
     "iopub.status.idle": "2025-04-21T16:59:39.279172Z",
     "shell.execute_reply": "2025-04-21T16:59:39.278036Z"
    }
   },
   "outputs": [],
   "source": [
    "if df['date'].dtype != pl.Datetime:\n",
    "    df = df.with_columns(pl.col('date').str.strptime(pl.Datetime, format='%Y-%m-%dT%H:%M:%S%.f').alias('date'))\n",
    "df = df.with_columns(pl.col('date').dt.date().alias('trade_date'))\n"
   ]
  },
  {
   "cell_type": "markdown",
   "metadata": {},
   "source": [
    "## 4. Aggregate Daily Performance\n"
   ]
  },
  {
   "cell_type": "code",
   "execution_count": null,
   "metadata": {
    "execution": {
     "iopub.execute_input": "2025-04-21T16:59:39.283077Z",
     "iopub.status.busy": "2025-04-21T16:59:39.282685Z",
     "iopub.status.idle": "2025-04-21T16:59:39.290816Z",
     "shell.execute_reply": "2025-04-21T16:59:39.289934Z"
    }
   },
   "outputs": [],
   "source": [
    "daily_perf = (\n",
    "    df.group_by('trade_date')\n",
    "      .agg([pl.sum('trade_value').alias('daily_trade_value'), pl.count().alias('num_trades')])\n",
    "      .sort('trade_date')\n",
    ")\n",
    "print('Daily performance sample:')\n",
    "print(daily_perf.head())\n"
   ]
  },
  {
   "cell_type": "markdown",
   "metadata": {},
   "source": [
    "## 5. Cumulative and Daily Returns\n"
   ]
  },
  {
   "cell_type": "code",
   "execution_count": null,
   "metadata": {
    "execution": {
     "iopub.execute_input": "2025-04-21T16:59:39.295025Z",
     "iopub.status.busy": "2025-04-21T16:59:39.294605Z",
     "iopub.status.idle": "2025-04-21T16:59:39.300224Z",
     "shell.execute_reply": "2025-04-21T16:59:39.299350Z"
    }
   },
   "outputs": [],
   "source": [
    "daily_perf = daily_perf.with_columns([pl.cum_sum('daily_trade_value').alias('cumulative_value')])\n",
    "daily_perf = daily_perf.with_columns([(pl.col('daily_trade_value') / pl.col('cumulative_value').shift(1) * 100).alias('daily_return_pct')])\n"
   ]
  },
  {
   "cell_type": "markdown",
   "metadata": {},
   "source": [
    "## 6. Performance Metrics\n"
   ]
  },
  {
   "cell_type": "code",
   "execution_count": null,
   "metadata": {
    "execution": {
     "iopub.execute_input": "2025-04-21T16:59:39.303971Z",
     "iopub.status.busy": "2025-04-21T16:59:39.303606Z",
     "iopub.status.idle": "2025-04-21T16:59:39.310603Z",
     "shell.execute_reply": "2025-04-21T16:59:39.309599Z"
    }
   },
   "outputs": [],
   "source": [
    "avg_daily_return = daily_perf['daily_return_pct'].mean()\n",
    "std_daily_return = daily_perf['daily_return_pct'].std()\n",
    "sharpe = avg_daily_return / std_daily_return * np.sqrt(252)\n",
    "print(f'\\nPortfolio Performance Metrics:')\n",
    "print(f'Average Daily Return: {avg_daily_return:.2f}%')\n",
    "print(f'Daily Volatility: {std_daily_return:.2f}%')\n",
    "print(f'Annualized Sharpe Ratio: {sharpe:.2f}')\n"
   ]
  },
  {
   "cell_type": "markdown",
   "metadata": {},
   "source": [
    "## 7. Save Results\n"
   ]
  },
  {
   "cell_type": "code",
   "execution_count": null,
   "metadata": {
    "execution": {
     "iopub.execute_input": "2025-04-21T16:59:39.314608Z",
     "iopub.status.busy": "2025-04-21T16:59:39.314208Z",
     "iopub.status.idle": "2025-04-21T16:59:39.320069Z",
     "shell.execute_reply": "2025-04-21T16:59:39.319164Z"
    }
   },
   "outputs": [],
   "source": [
    "daily_perf.write_csv(f'{datasets_dir}/portfolio_performance.csv')\n",
    "print('Saved portfolio performance to CSV.')\n"
   ]
  }
 ],
 "metadata": {
  "kernelspec": {
   "display_name": "Python 3",
   "language": "python",
   "name": "python3"
  },
  "language_info": {
   "codemirror_mode": {
    "name": "ipython",
    "version": 3
   },
   "file_extension": ".py",
   "mimetype": "text/x-python",
   "name": "python",
   "nbconvert_exporter": "python",
   "pygments_lexer": "ipython3",
   "version": "3.9.0"
  }
 },
 "nbformat": 4,
 "nbformat_minor": 2
}

{
 "cells": [
  {
   "cell_type": "markdown",
   "metadata": {},
   "source": [
    "# Nested Data and Explode Operations\n",
    "\n",
    "This notebook demonstrates working with nested data structures and the explode operation in Polars."
   ]
  },
  {
   "cell_type": "code",
   "execution_count": null,
   "metadata": {
    "execution": {
     "iopub.execute_input": "2025-04-21T16:59:46.416508Z",
     "iopub.status.busy": "2025-04-21T16:59:46.416104Z",
     "iopub.status.idle": "2025-04-21T16:59:46.571841Z",
     "shell.execute_reply": "2025-04-21T16:59:46.570420Z"
    }
   },
   "outputs": [],
   "source": [
    "import os\n",
    "import polars as pl\n",
    "import json\n"
   ]
  },
  {
   "cell_type": "markdown",
   "metadata": {},
   "source": [
    "## 1. Create and Load Nested Data\n"
   ]
  },
  {
   "cell_type": "code",
   "execution_count": null,
   "metadata": {
    "execution": {
     "iopub.execute_input": "2025-04-21T16:59:46.577324Z",
     "iopub.status.busy": "2025-04-21T16:59:46.576635Z",
     "iopub.status.idle": "2025-04-21T16:59:46.587861Z",
     "shell.execute_reply": "2025-04-21T16:59:46.586980Z"
    }
   },
   "outputs": [],
   "source": [
    "datasets_dir = os.path.abspath(os.path.join('..', 'datasets'))\n",
    "nested_data = [\n",
    "    {'client_id': 'C0001', 'portfolios': [\n",
    "        {'port_id': 'P1', 'holdings': ['A0001', 'A0002']},\n",
    "        {'port_id': 'P2', 'holdings': ['A0003']}\n",
    "    ]},\n",
    "    {'client_id': 'C0002', 'portfolios': [\n",
    "        {'port_id': 'P3', 'holdings': ['A0001', 'A0004']}\n",
    "    ]}\n",
    "]\n",
    "with open(f'{datasets_dir}/nested.json', 'w') as f:\n",
    "    json.dump(nested_data, f, indent=2)\n",
    "df = pl.DataFrame(nested_data)\n",
    "print('Original nested DataFrame:')\n",
    "print(df)\n"
   ]
  },
  {
   "cell_type": "markdown",
   "metadata": {},
   "source": [
    "## 2. Explode and Extract Struct Fields\n"
   ]
  },
  {
   "cell_type": "code",
   "execution_count": null,
   "metadata": {
    "execution": {
     "iopub.execute_input": "2025-04-21T16:59:46.593323Z",
     "iopub.status.busy": "2025-04-21T16:59:46.592626Z",
     "iopub.status.idle": "2025-04-21T16:59:46.601783Z",
     "shell.execute_reply": "2025-04-21T16:59:46.600888Z"
    }
   },
   "outputs": [],
   "source": [
    "exploded = df.explode('portfolios')\n",
    "extracted = exploded.with_columns([\n",
    "    pl.col('portfolios').struct.field('port_id').alias('portfolio_id'),\n",
    "    pl.col('portfolios').struct.field('holdings').alias('holdings')\n",
    "])\n",
    "print('Extracted struct fields:')\n",
    "print(extracted)\n"
   ]
  },
  {
   "cell_type": "markdown",
   "metadata": {},
   "source": [
    "## 3. Fully Explode Holdings\n"
   ]
  },
  {
   "cell_type": "code",
   "execution_count": null,
   "metadata": {
    "execution": {
     "iopub.execute_input": "2025-04-21T16:59:46.605928Z",
     "iopub.status.busy": "2025-04-21T16:59:46.605501Z",
     "iopub.status.idle": "2025-04-21T16:59:46.612482Z",
     "shell.execute_reply": "2025-04-21T16:59:46.611622Z"
    }
   },
   "outputs": [],
   "source": [
    "fully_exploded = extracted.explode('holdings')\n",
    "final = fully_exploded.drop('portfolios')\n",
    "print('Fully exploded holdings:')\n",
    "print(final)\n"
   ]
  },
  {
   "cell_type": "markdown",
   "metadata": {},
   "source": [
    "## 4. Melt Operation (Wide to Long)\n"
   ]
  },
  {
   "cell_type": "code",
   "execution_count": null,
   "metadata": {
    "execution": {
     "iopub.execute_input": "2025-04-21T16:59:46.616881Z",
     "iopub.status.busy": "2025-04-21T16:59:46.616453Z",
     "iopub.status.idle": "2025-04-21T16:59:46.624482Z",
     "shell.execute_reply": "2025-04-21T16:59:46.623459Z"
    }
   },
   "outputs": [],
   "source": [
    "wide_df = pl.DataFrame({\n",
    "    'client_id': ['C0001', 'C0002', 'C0003'],\n",
    "    'equity_val': [10000, 15000, 8000],\n",
    "    'bond_val': [5000, 7000, 12000],\n",
    "    'commodity_val': [2000, 0, 3000]\n",
    "})\n",
    "melted = wide_df.unpivot(index=['client_id'], on=['equity_val', 'bond_val', 'commodity_val'], variable_name='asset_class', value_name='value')\n",
    "print('Melted to long format:')\n",
    "print(melted)\n"
   ]
  },
  {
   "cell_type": "markdown",
   "metadata": {},
   "source": [
    "## 5. Save Results\n"
   ]
  },
  {
   "cell_type": "code",
   "execution_count": null,
   "metadata": {
    "execution": {
     "iopub.execute_input": "2025-04-21T16:59:46.628613Z",
     "iopub.status.busy": "2025-04-21T16:59:46.627912Z",
     "iopub.status.idle": "2025-04-21T16:59:46.635928Z",
     "shell.execute_reply": "2025-04-21T16:59:46.635059Z"
    }
   },
   "outputs": [],
   "source": [
    "final.write_csv(f'{datasets_dir}/exploded_holdings.csv')\n",
    "melted.write_csv(f'{datasets_dir}/melted_assets.csv')\n",
    "print('Saved exploded holdings and melted assets to CSV.')\n"
   ]
  }
 ],
 "metadata": {
  "kernelspec": {
   "display_name": "Python 3",
   "language": "python",
   "name": "python3"
  },
  "language_info": {
   "codemirror_mode": {
    "name": "ipython",
    "version": 3
   },
   "file_extension": ".py",
   "mimetype": "text/x-python",
   "name": "python",
   "nbconvert_exporter": "python",
   "pygments_lexer": "ipython3",
   "version": "3.9.0"
  }
 },
 "nbformat": 4,
 "nbformat_minor": 2
}

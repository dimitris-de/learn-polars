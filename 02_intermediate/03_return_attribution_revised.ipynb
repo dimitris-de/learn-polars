{
 "cells": [
  {
   "cell_type": "markdown",
   "metadata": {},
   "source": [
    "# Return Attribution Analysis\n",
    "\n",
    "This notebook demonstrates return attribution by asset type and region using Polars."
   ]
  },
  {
   "cell_type": "code",
   "execution_count": null,
   "metadata": {
    "execution": {
     "iopub.execute_input": "2025-04-21T16:59:41.049027Z",
     "iopub.status.busy": "2025-04-21T16:59:41.048646Z",
     "iopub.status.idle": "2025-04-21T16:59:41.823637Z",
     "shell.execute_reply": "2025-04-21T16:59:41.822439Z"
    }
   },
   "outputs": [],
   "source": [
    "import os\n",
    "import polars as pl\n",
    "import matplotlib.pyplot as plt\n"
   ]
  },
  {
   "cell_type": "markdown",
   "metadata": {},
   "source": [
    "## 1. Load Data\n"
   ]
  },
  {
   "cell_type": "code",
   "execution_count": null,
   "metadata": {
    "execution": {
     "iopub.execute_input": "2025-04-21T16:59:41.827947Z",
     "iopub.status.busy": "2025-04-21T16:59:41.827467Z",
     "iopub.status.idle": "2025-04-21T16:59:41.839168Z",
     "shell.execute_reply": "2025-04-21T16:59:41.837995Z"
    }
   },
   "outputs": [],
   "source": [
    "datasets_dir = os.path.abspath(os.path.join('..', 'datasets'))\n",
    "tx = pl.read_csv(f'{datasets_dir}/cleaned_transactions.csv')\n",
    "assets = pl.read_parquet(f'{datasets_dir}/assets.parquet')\n",
    "benchmarks = pl.read_csv(f'{datasets_dir}/benchmarks.csv')\n"
   ]
  },
  {
   "cell_type": "markdown",
   "metadata": {},
   "source": [
    "## 2. Join and Trade Value Calculation\n"
   ]
  },
  {
   "cell_type": "code",
   "execution_count": null,
   "metadata": {
    "execution": {
     "iopub.execute_input": "2025-04-21T16:59:41.843147Z",
     "iopub.status.busy": "2025-04-21T16:59:41.842747Z",
     "iopub.status.idle": "2025-04-21T16:59:41.849799Z",
     "shell.execute_reply": "2025-04-21T16:59:41.848628Z"
    }
   },
   "outputs": [],
   "source": [
    "df = tx.join(assets, on='asset_id', how='inner')\n",
    "df = df.with_columns([(pl.col('amount') * pl.col('price')).alias('trade_value')])\n"
   ]
  },
  {
   "cell_type": "markdown",
   "metadata": {},
   "source": [
    "## 3. Attribution by Asset Type\n"
   ]
  },
  {
   "cell_type": "code",
   "execution_count": null,
   "metadata": {
    "execution": {
     "iopub.execute_input": "2025-04-21T16:59:41.853824Z",
     "iopub.status.busy": "2025-04-21T16:59:41.853424Z",
     "iopub.status.idle": "2025-04-21T16:59:41.862281Z",
     "shell.execute_reply": "2025-04-21T16:59:41.861304Z"
    }
   },
   "outputs": [],
   "source": [
    "asset_type_attr = (\n",
    "    df.group_by('asset_type')\n",
    "      .agg([pl.sum('trade_value').alias('total_value'), pl.count().alias('num_trades')])\n",
    ")\n",
    "total = asset_type_attr['total_value'].sum()\n",
    "asset_type_attr = asset_type_attr.with_columns([(pl.col('total_value') / total * 100).alias('pct_attribution')])\n",
    "print('Return attribution by asset type:')\n",
    "print(asset_type_attr)\n"
   ]
  },
  {
   "cell_type": "markdown",
   "metadata": {},
   "source": [
    "## 4. Attribution by Region\n"
   ]
  },
  {
   "cell_type": "code",
   "execution_count": null,
   "metadata": {
    "execution": {
     "iopub.execute_input": "2025-04-21T16:59:41.866369Z",
     "iopub.status.busy": "2025-04-21T16:59:41.865971Z",
     "iopub.status.idle": "2025-04-21T16:59:41.873926Z",
     "shell.execute_reply": "2025-04-21T16:59:41.872751Z"
    }
   },
   "outputs": [],
   "source": [
    "region_attr = (\n",
    "    df.group_by('region')\n",
    "      .agg([pl.sum('trade_value').alias('total_value'), pl.count().alias('num_trades')])\n",
    ")\n",
    "region_attr = region_attr.with_columns([(pl.col('total_value') / total * 100).alias('pct_attribution')])\n",
    "print('Return attribution by region:')\n",
    "print(region_attr)\n"
   ]
  },
  {
   "cell_type": "markdown",
   "metadata": {},
   "source": [
    "## 5. Save Results\n"
   ]
  },
  {
   "cell_type": "code",
   "execution_count": null,
   "metadata": {
    "execution": {
     "iopub.execute_input": "2025-04-21T16:59:41.877943Z",
     "iopub.status.busy": "2025-04-21T16:59:41.877554Z",
     "iopub.status.idle": "2025-04-21T16:59:41.884157Z",
     "shell.execute_reply": "2025-04-21T16:59:41.883230Z"
    }
   },
   "outputs": [],
   "source": [
    "asset_type_attr.write_csv(f'{datasets_dir}/asset_type_attribution.csv')\n",
    "region_attr.write_csv(f'{datasets_dir}/region_attribution.csv')\n",
    "print('Saved attribution results to CSV.')\n"
   ]
  }
 ],
 "metadata": {
  "kernelspec": {
   "display_name": "Python 3",
   "language": "python",
   "name": "python3"
  },
  "language_info": {
   "codemirror_mode": {
    "name": "ipython",
    "version": 3
   },
   "file_extension": ".py",
   "mimetype": "text/x-python",
   "name": "python",
   "nbconvert_exporter": "python",
   "pygments_lexer": "ipython3",
   "version": "3.9.0"
  }
 },
 "nbformat": 4,
 "nbformat_minor": 2
}

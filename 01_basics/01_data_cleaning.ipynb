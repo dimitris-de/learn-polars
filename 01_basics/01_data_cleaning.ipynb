{
 "cells": [
  {
   "cell_type": "markdown",
   "id": "bd9051c1",
   "metadata": {},
   "source": [
    "# 01.1 Data Cleaning with Polars\n",
    "\n",
    "This notebook demonstrates how to load, clean, and save transaction data using Polars."
   ]
  },
  {
   "cell_type": "code",
   "execution_count": null,
   "id": "2c60b5d9",
   "metadata": {
    "execution": {
     "iopub.execute_input": "2025-04-21T16:59:10.940842Z",
     "iopub.status.busy": "2025-04-21T16:59:10.940206Z",
     "iopub.status.idle": "2025-04-21T16:59:11.458107Z",
     "shell.execute_reply": "2025-04-21T16:59:11.456797Z"
    }
   },
   "outputs": [],
   "source": [
    "import os\n",
    "import polars as pl\n",
    "\n",
    "datasets_dir = os.path.abspath(os.path.join('..', 'datasets'))\n",
    "tx = pl.read_csv(f\"{datasets_dir}/transactions.csv\")\n",
    "print(f'Loaded records: {tx.shape[0]}')\n",
    "tx_clean = tx.drop_nulls().filter(pl.col('amount') > 0)\n",
    "print(f'After filtering negatives: {tx_clean.shape[0]} rows')\n",
    "if tx_clean['date'].dtype == pl.String:\n",
    "    tx_clean = tx_clean.with_columns([\n",
    "        pl.col('amount').round(2).alias('amount'),\n",
    "        pl.col('date').str.strptime(pl.Datetime, format='%Y-%m-%dT%H:%M:%S%.f').alias('date')\n",
    "    ])\n",
    "else:\n",
    "    tx_clean = tx_clean.with_columns([pl.col('amount').round(2).alias('amount')])\n",
    "print(tx_clean.head())\n",
    "tx_clean.write_csv(f'{datasets_dir}/cleaned_transactions.csv')\n",
    "print(f'Saved cleaned data with {tx_clean.shape[0]} rows to {datasets_dir}/cleaned_transactions.csv')"
   ]
  }
 ],
 "metadata": {
  "kernelspec": {
   "display_name": ".venv",
   "language": "python",
   "name": "python3"
  },
  "language_info": {
   "codemirror_mode": {
    "name": "ipython",
    "version": 3
   },
   "file_extension": ".py",
   "mimetype": "text/x-python",
   "name": "python",
   "nbconvert_exporter": "python",
   "pygments_lexer": "ipython3",
   "version": "3.9.0"
  }
 },
 "nbformat": 4,
 "nbformat_minor": 5
}

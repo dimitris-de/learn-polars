{
 "cells": [
  {
   "cell_type": "markdown",
   "id": "763f6ac0",
   "metadata": {},
   "source": [
    "# 01.3 Lazy vs Eager Execution in Polars\n",
    "\n",
    "This notebook compares eager and lazy execution in Polars for performance and memory efficiency."
   ]
  },
  {
   "cell_type": "code",
   "execution_count": null,
   "id": "0f322219",
   "metadata": {
    "execution": {
     "iopub.execute_input": "2025-04-21T16:59:21.667815Z",
     "iopub.status.busy": "2025-04-21T16:59:21.667403Z",
     "iopub.status.idle": "2025-04-21T16:59:21.818335Z",
     "shell.execute_reply": "2025-04-21T16:59:21.817382Z"
    }
   },
   "outputs": [],
   "source": [
    "import os\n",
    "import polars as pl\n",
    "import time\n",
    "\n",
    "datasets_dir = os.path.abspath(os.path.join('..', 'datasets'))\n",
    "tx = pl.read_csv(f\"{datasets_dir}/transactions.csv\")\n",
    "start = time.time()\n",
    "result_eager = tx.filter(pl.col('amount') > 1000).group_by('client_id').agg(pl.sum('amount').alias('total'))\n",
    "elapsed_eager = time.time() - start\n",
    "print(f'Eager execution took {elapsed_eager:.4f} seconds')\n",
    "print(result_eager.head())\n",
    "tx_lazy = pl.scan_csv(f\"{datasets_dir}/transactions.csv\")\n",
    "start = time.time()\n",
    "result_lazy = (\n",
    "    tx_lazy\n",
    "    .filter(pl.col('amount') > 1000)\n",
    "    .group_by('client_id')\n",
    "    .agg(pl.sum('amount').alias('total'))\n",
    "    .collect()\n",
    ")\n",
    "elapsed_lazy = time.time() - start\n",
    "print(f'Lazy execution took {elapsed_lazy:.4f} seconds')\n",
    "print(result_lazy.head())"
   ]
  }
 ],
 "metadata": {
  "kernelspec": {
   "display_name": ".venv",
   "language": "python",
   "name": "python3"
  },
  "language_info": {
   "codemirror_mode": {
    "name": "ipython",
    "version": 3
   },
   "file_extension": ".py",
   "mimetype": "text/x-python",
   "name": "python",
   "nbconvert_exporter": "python",
   "pygments_lexer": "ipython3",
   "version": "3.9.0"
  }
 },
 "nbformat": 4,
 "nbformat_minor": 5
}

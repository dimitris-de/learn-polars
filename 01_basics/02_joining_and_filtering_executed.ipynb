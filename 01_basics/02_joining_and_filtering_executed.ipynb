{
 "cells": [
  {
   "cell_type": "markdown",
   "id": "70435bac",
   "metadata": {},
   "source": [
    "# 01.2 Joining and Filtering with Polars\n",
    "\n",
    "This notebook demonstrates how to join transactions with clients and filter high-value transactions."
   ]
  },
  {
   "cell_type": "code",
   "execution_count": null,
   "id": "417ef793",
   "metadata": {
    "execution": {
     "iopub.execute_input": "2025-04-21T16:59:18.020064Z",
     "iopub.status.busy": "2025-04-21T16:59:18.019556Z",
     "iopub.status.idle": "2025-04-21T16:59:18.165634Z",
     "shell.execute_reply": "2025-04-21T16:59:18.164746Z"
    }
   },
   "outputs": [],
   "source": [
    "import os\n",
    "import polars as pl\n",
    "\n",
    "datasets_dir = os.path.abspath(os.path.join('..', 'datasets'))\n",
    "tx = pl.read_csv(f\"{datasets_dir}/transactions.csv\")\n",
    "clients = pl.read_csv(f\"{datasets_dir}/clients.csv\")\n",
    "joined = tx.join(clients, on='client_id')\n",
    "print(joined.head())\n",
    "high_value = joined.filter(pl.col('amount') > 10000)\n",
    "print(high_value.head())\n",
    "high_value.write_csv(f'{datasets_dir}/high_value_transactions.csv')\n",
    "print(f'Saved {high_value.shape[0]} high-value transactions to {datasets_dir}/high_value_transactions.csv')"
   ]
  }
 ],
 "metadata": {
  "kernelspec": {
   "display_name": ".venv",
   "language": "python",
   "name": "python3"
  },
  "language_info": {
   "codemirror_mode": {
    "name": "ipython",
    "version": 3
   },
   "file_extension": ".py",
   "mimetype": "text/x-python",
   "name": "python",
   "nbconvert_exporter": "python",
   "pygments_lexer": "ipython3",
   "version": "3.9.0"
  }
 },
 "nbformat": 4,
 "nbformat_minor": 5
}

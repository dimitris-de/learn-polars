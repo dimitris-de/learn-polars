{
 "cells": [
  {
   "cell_type": "markdown",
   "metadata": {},
   "source": [
    "# LazyFrame Optimizations in Polars\n",
    "\n",
    "This notebook demonstrates key optimizations available in Polars' LazyFrame API, including predicate pushdown, projection pushdown, and common subexpression elimination. We also inspect the query optimization plan."
   ]
  },
  {
   "cell_type": "code",
   "execution_count": null,
   "metadata": {
    "execution": {
     "iopub.execute_input": "2025-04-21T16:59:56.869041Z",
     "iopub.status.busy": "2025-04-21T16:59:56.868450Z",
     "iopub.status.idle": "2025-04-21T16:59:57.004910Z",
     "shell.execute_reply": "2025-04-21T16:59:57.003702Z"
    }
   },
   "outputs": [],
   "source": [
    "import os\n",
    "import polars as pl\n",
    "import time\n"
   ]
  },
  {
   "cell_type": "markdown",
   "metadata": {},
   "source": [
    "## 1. Load Datasets Lazily\n",
    "We use `scan_csv` and `scan_parquet` to load datasets lazily for efficient query planning."
   ]
  },
  {
   "cell_type": "code",
   "execution_count": null,
   "metadata": {
    "execution": {
     "iopub.execute_input": "2025-04-21T16:59:57.009129Z",
     "iopub.status.busy": "2025-04-21T16:59:57.008741Z",
     "iopub.status.idle": "2025-04-21T16:59:57.015793Z",
     "shell.execute_reply": "2025-04-21T16:59:57.014639Z"
    }
   },
   "outputs": [],
   "source": [
    "datasets_dir = os.path.abspath(os.path.join('..', 'datasets'))\n",
    "tx_lazy = pl.scan_csv(f'{datasets_dir}/transactions.csv')\n",
    "clients_lazy = pl.scan_csv(f'{datasets_dir}/clients.csv')\n",
    "assets_lazy = pl.scan_parquet(f'{datasets_dir}/assets.parquet')\n"
   ]
  },
  {
   "cell_type": "markdown",
   "metadata": {},
   "source": [
    "## 2. Predicate Pushdown\n",
    "We compare filtering before and after joins to demonstrate the performance benefits of predicate pushdown."
   ]
  },
  {
   "cell_type": "code",
   "execution_count": null,
   "metadata": {
    "execution": {
     "iopub.execute_input": "2025-04-21T16:59:57.019697Z",
     "iopub.status.busy": "2025-04-21T16:59:57.019297Z",
     "iopub.status.idle": "2025-04-21T16:59:57.035944Z",
     "shell.execute_reply": "2025-04-21T16:59:57.035128Z"
    }
   },
   "outputs": [],
   "source": [
    "print('DEMONSTRATION OF PREDICATE PUSHDOWN OPTIMIZATION')\n",
    "# Without predicate pushdown (filtering after join)\n",
    "start = time.time()\n",
    "result1 = (\n",
    "    tx_lazy\n",
    "    .join(assets_lazy, on='asset_id')\n",
    "    .filter(pl.col('amount') > 5000)\n",
    "    .select(['transaction_id', 'client_id', 'asset_type'])\n",
    ")\n",
    "print(result1.collect().head())\n",
    "time1 = time.time() - start\n",
    "print(f'Time without explicit pushdown: {time1:.4f}s')\n",
    "\n",
    "# With predicate pushdown (filtering before join)\n",
    "start = time.time()\n",
    "result2 = (\n",
    "    tx_lazy\n",
    "    .filter(pl.col('amount') > 5000)\n",
    "    .join(assets_lazy, on='asset_id')\n",
    "    .select(['transaction_id', 'client_id', 'asset_type'])\n",
    ")\n",
    "print(result2.collect().head())\n",
    "time2 = time.time() - start\n",
    "print(f'Time with explicit pushdown: {time2:.4f}s')\n",
    "print(f'Speedup: {time1/time2:.2f}x')\n"
   ]
  },
  {
   "cell_type": "markdown",
   "metadata": {},
   "source": [
    "## 3. Projection Pushdown\n",
    "We compare selecting columns before and after joins to show the effect of projection pushdown."
   ]
  },
  {
   "cell_type": "code",
   "execution_count": null,
   "metadata": {
    "execution": {
     "iopub.execute_input": "2025-04-21T16:59:57.039761Z",
     "iopub.status.busy": "2025-04-21T16:59:57.039383Z",
     "iopub.status.idle": "2025-04-21T16:59:57.052345Z",
     "shell.execute_reply": "2025-04-21T16:59:57.051472Z"
    }
   },
   "outputs": [],
   "source": [
    "print('DEMONSTRATION OF PROJECTION PUSHDOWN OPTIMIZATION')\n",
    "# Without explicit projection (selecting columns after operations)\n",
    "start = time.time()\n",
    "result3 = (\n",
    "    tx_lazy\n",
    "    .join(clients_lazy, on='client_id')\n",
    "    .join(assets_lazy, on='asset_id')\n",
    "    .select(['transaction_id', 'name', 'asset_type'])\n",
    ")\n",
    "print(result3.collect().head())\n",
    "time3 = time.time() - start\n",
    "print(f'Time without explicit projection: {time3:.4f}s')\n",
    "\n",
    "# With explicit projection (selecting columns before operations)\n",
    "start = time.time()\n",
    "result4 = (\n",
    "    tx_lazy.select(['transaction_id', 'client_id', 'asset_id'])\n",
    "    .join(clients_lazy.select(['client_id', 'name']), on='client_id')\n",
    "    .join(assets_lazy.select(['asset_id', 'asset_type']), on='asset_id')\n",
    "    .select(['transaction_id', 'name', 'asset_type'])\n",
    ")\n",
    "print(result4.collect().head())\n",
    "time4 = time.time() - start\n",
    "print(f'Time with explicit projection: {time4:.4f}s')\n",
    "print(f'Speedup: {time3/time4:.2f}x')\n"
   ]
  },
  {
   "cell_type": "markdown",
   "metadata": {},
   "source": [
    "## 4. Common Subexpression Elimination\n",
    "We demonstrate caching intermediate results for reuse."
   ]
  },
  {
   "cell_type": "code",
   "execution_count": null,
   "metadata": {
    "execution": {
     "iopub.execute_input": "2025-04-21T16:59:57.056904Z",
     "iopub.status.busy": "2025-04-21T16:59:57.056227Z",
     "iopub.status.idle": "2025-04-21T16:59:57.067986Z",
     "shell.execute_reply": "2025-04-21T16:59:57.067085Z"
    }
   },
   "outputs": [],
   "source": [
    "print('DEMONSTRATION OF COMMON SUBEXPRESSION ELIMINATION')\n",
    "# With caching\n",
    "start = time.time()\n",
    "filtered_tx = tx_lazy.filter(pl.col('amount') > 1000)\n",
    "result5 = filtered_tx.select(pl.sum('amount'))\n",
    "count5 = filtered_tx.select(pl.len())\n",
    "print(f'Sum: {result5.collect()[0,0]}, Count: {count5.collect()[0,0]}')\n",
    "time5 = time.time() - start\n",
    "print(f'Time with caching: {time5:.4f}s')\n",
    "\n",
    "# Without caching\n",
    "start = time.time()\n",
    "result6 = tx_lazy.filter(pl.col('amount') > 1000).select(pl.sum('amount'))\n",
    "count6 = tx_lazy.filter(pl.col('amount') > 1000).select(pl.len())\n",
    "print(f'Sum: {result6.collect()[0,0]}, Count: {count6.collect()[0,0]}')\n",
    "time6 = time.time() - start\n",
    "print(f'Time without caching: {time6:.4f}s')\n",
    "print(f'Speedup: {time6/time5:.2f}x')\n"
   ]
  },
  {
   "cell_type": "markdown",
   "metadata": {},
   "source": [
    "## 5. Query Optimization Plan\n",
    "We inspect the query plan for a complex query."
   ]
  },
  {
   "cell_type": "code",
   "execution_count": null,
   "metadata": {
    "execution": {
     "iopub.execute_input": "2025-04-21T16:59:57.072346Z",
     "iopub.status.busy": "2025-04-21T16:59:57.071601Z",
     "iopub.status.idle": "2025-04-21T16:59:57.078905Z",
     "shell.execute_reply": "2025-04-21T16:59:57.078015Z"
    }
   },
   "outputs": [],
   "source": [
    "print('QUERY OPTIMIZATION PLAN')\n",
    "complex_query = (\n",
    "    tx_lazy\n",
    "    .join(clients_lazy, on='client_id')\n",
    "    .filter(pl.col('amount') > 1000)\n",
    "    .group_by('client_id')\n",
    "    .agg([\n",
    "        pl.sum('amount').alias('total_amount'),\n",
    "        pl.len().alias('transaction_count')\n",
    "    ])\n",
    "    .sort('total_amount', descending=True)\n",
    "    .limit(5)\n",
    ")\n",
    "print(complex_query.explain())\n"
   ]
  }
 ],
 "metadata": {
  "kernelspec": {
   "display_name": ".venv",
   "language": "python",
   "name": "python3"
  },
  "language_info": {
   "codemirror_mode": {
    "name": "ipython",
    "version": 3
   },
   "file_extension": ".py",
   "mimetype": "text/x-python",
   "name": "python",
   "nbconvert_exporter": "python",
   "pygments_lexer": "ipython3",
   "version": "3.9.0"
  }
 },
 "nbformat": 4,
 "nbformat_minor": 2
}

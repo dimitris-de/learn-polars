{
 "cells": [
  {
   "cell_type": "markdown",
   "metadata": {},
   "source": [
    "# Value at Risk (VaR) and Stress Testing\n",
    "\n",
    "This notebook demonstrates how to perform Value at Risk (VaR) calculations and stress testing on a synthetic portfolio using Polars and Python."
   ]
  },
  {
   "cell_type": "code",
   "execution_count": null,
   "metadata": {
    "execution": {
     "iopub.execute_input": "2025-04-21T16:59:52.776277Z",
     "iopub.status.busy": "2025-04-21T16:59:52.775454Z",
     "iopub.status.idle": "2025-04-21T16:59:53.006389Z",
     "shell.execute_reply": "2025-04-21T16:59:53.005475Z"
    }
   },
   "outputs": [],
   "source": [
    "import os\n",
    "import polars as pl\n",
    "import numpy as np\n"
   ]
  },
  {
   "cell_type": "markdown",
   "metadata": {},
   "source": [
    "## 1. Load Benchmark Data\n",
    "We will use benchmark returns as the basis for simulating asset returns."
   ]
  },
  {
   "cell_type": "code",
   "execution_count": null,
   "metadata": {
    "execution": {
     "iopub.execute_input": "2025-04-21T16:59:53.010947Z",
     "iopub.status.busy": "2025-04-21T16:59:53.010508Z",
     "iopub.status.idle": "2025-04-21T16:59:53.021853Z",
     "shell.execute_reply": "2025-04-21T16:59:53.020951Z"
    }
   },
   "outputs": [],
   "source": [
    "datasets_dir = os.path.abspath(os.path.join('..', 'datasets'))\n",
    "benchmarks = pl.read_csv(f\"{datasets_dir}/benchmarks.csv\")\n",
    "benchmarks = benchmarks.with_columns([\n",
    "    pl.col('date').str.strptime(pl.Datetime, format='%Y-%m-%dT%H:%M:%S%.f').alias('date')\n",
    "])\n"
   ]
  },
  {
   "cell_type": "markdown",
   "metadata": {},
   "source": [
    "## 2. Simulate Asset Returns and Portfolio Construction\n",
    "We create a synthetic portfolio of 3 assets with random weights, correlated to the benchmark."
   ]
  },
  {
   "cell_type": "code",
   "execution_count": null,
   "metadata": {
    "execution": {
     "iopub.execute_input": "2025-04-21T16:59:53.026962Z",
     "iopub.status.busy": "2025-04-21T16:59:53.026396Z",
     "iopub.status.idle": "2025-04-21T16:59:53.129415Z",
     "shell.execute_reply": "2025-04-21T16:59:53.128558Z"
    }
   },
   "outputs": [],
   "source": [
    "np.random.seed(42)  # For reproducibility\n",
    "portfolio_value = 1_000_000  # $1M portfolio\n",
    "\n",
    "asset_returns = benchmarks.select([\n",
    "    pl.col('date'),\n",
    "    (pl.col('benchmark_return') * 1.2 + np.random.normal(0, 0.001, benchmarks.height)).alias('asset1_return'),\n",
    "    (pl.col('benchmark_return') * 0.8 + np.random.normal(0, 0.002, benchmarks.height)).alias('asset2_return'),\n",
    "    (pl.col('benchmark_return') * 0.5 + np.random.normal(0, 0.003, benchmarks.height)).alias('asset3_return')\n",
    "])\n",
    "\n",
    "weights = np.array([0.5, 0.3, 0.2])  # 50% in asset1, 30% in asset2, 20% in asset3\n",
    "portfolio_returns = asset_returns.with_columns([\n",
    "    (weights[0] * pl.col('asset1_return') +\n",
    "     weights[1] * pl.col('asset2_return') +\n",
    "     weights[2] * pl.col('asset3_return')).alias('portfolio_return')\n",
    "])\n",
    "portfolio_returns = portfolio_returns.with_columns([\n",
    "    (pl.col('portfolio_return') * portfolio_value).alias('dollar_change')\n",
    "])\n",
    "portfolio_returns.head()\n"
   ]
  },
  {
   "cell_type": "markdown",
   "metadata": {},
   "source": [
    "## 3. Value at Risk (VaR) Calculation\n",
    "We calculate the 1-day VaR at 95% and 99% confidence levels."
   ]
  },
  {
   "cell_type": "code",
   "execution_count": null,
   "metadata": {
    "execution": {
     "iopub.execute_input": "2025-04-21T16:59:53.186340Z",
     "iopub.status.busy": "2025-04-21T16:59:53.185506Z",
     "iopub.status.idle": "2025-04-21T16:59:53.192997Z",
     "shell.execute_reply": "2025-04-21T16:59:53.192034Z"
    }
   },
   "outputs": [],
   "source": [
    "var_95 = portfolio_returns.select([pl.col('dollar_change').quantile(0.05).alias('VaR_95')])[0, 0]\n",
    "var_99 = portfolio_returns.select([pl.col('dollar_change').quantile(0.01).alias('VaR_99')])[0, 0]\n",
    "print(f\"1-day Value at Risk (95% confidence): ${-var_95:.2f}\")\n",
    "print(f\"1-day Value at Risk (99% confidence): ${-var_99:.2f}\")\n"
   ]
  },
  {
   "cell_type": "markdown",
   "metadata": {},
   "source": [
    "## 4. VaR Attribution by Asset Type\n",
    "We attribute risk by asset type using groupby aggregation."
   ]
  },
  {
   "cell_type": "code",
   "execution_count": null,
   "metadata": {
    "execution": {
     "iopub.execute_input": "2025-04-21T16:59:53.196844Z",
     "iopub.status.busy": "2025-04-21T16:59:53.196454Z",
     "iopub.status.idle": "2025-04-21T16:59:53.206487Z",
     "shell.execute_reply": "2025-04-21T16:59:53.205519Z"
    }
   },
   "outputs": [],
   "source": [
    "returns = pl.concat([\n",
    "    portfolio_returns.with_columns([pl.lit('asset1').alias('asset_type'), pl.col('asset1_return').alias('return')]),\n",
    "    portfolio_returns.with_columns([pl.lit('asset2').alias('asset_type'), pl.col('asset2_return').alias('return')]),\n",
    "    portfolio_returns.with_columns([pl.lit('asset3').alias('asset_type'), pl.col('asset3_return').alias('return')])\n",
    "], how='vertical')\n",
    "var_by_type = returns.group_by('asset_type').agg([\n",
    "    pl.col('return').std().alias('std_return'),\n",
    "    pl.col('return').mean().alias('mean_return')\n",
    "])\n",
    "print('VaR by Asset Type:')\n",
    "print(var_by_type)\n"
   ]
  },
  {
   "cell_type": "markdown",
   "metadata": {},
   "source": [
    "## 5. Stress Testing\n",
    "We define and apply several stress scenarios to the portfolio."
   ]
  },
  {
   "cell_type": "code",
   "execution_count": null,
   "metadata": {
    "execution": {
     "iopub.execute_input": "2025-04-21T16:59:53.210394Z",
     "iopub.status.busy": "2025-04-21T16:59:53.210002Z",
     "iopub.status.idle": "2025-04-21T16:59:53.217046Z",
     "shell.execute_reply": "2025-04-21T16:59:53.216130Z"
    }
   },
   "outputs": [],
   "source": [
    "stress_scenarios = [\n",
    "    ('Market Crash', -0.07),\n",
    "    ('Tech Bubble', -0.04),\n",
    "    ('Interest Rate Shock', -0.025),\n",
    "    ('Normal Volatility', -0.01)\n",
    "]\n",
    "\n",
    "stress_results = []\n",
    "for scenario, shock in stress_scenarios:\n",
    "    dollar_impact = shock * portfolio_value\n",
    "    stress_results.append({'scenario': scenario, 'return': shock, 'dollar_impact': dollar_impact})\n",
    "\n",
    "stress_df = pl.DataFrame(stress_results)\n",
    "print('Stress Test Results:')\n",
    "print(stress_df)\n"
   ]
  },
  {
   "cell_type": "markdown",
   "metadata": {},
   "source": [
    "## 6. Save Results\n",
    "We save the portfolio returns and stress test results as CSV files."
   ]
  },
  {
   "cell_type": "code",
   "execution_count": null,
   "metadata": {
    "execution": {
     "iopub.execute_input": "2025-04-21T16:59:53.221309Z",
     "iopub.status.busy": "2025-04-21T16:59:53.220604Z",
     "iopub.status.idle": "2025-04-21T16:59:53.228714Z",
     "shell.execute_reply": "2025-04-21T16:59:53.227893Z"
    }
   },
   "outputs": [],
   "source": [
    "portfolio_returns.write_csv(f'{datasets_dir}/portfolio_returns.csv')\n",
    "stress_df.write_csv(f'{datasets_dir}/stress_test_results.csv')\n",
    "print('Saved results.')\n"
   ]
  }
 ],
 "metadata": {
  "kernelspec": {
   "display_name": ".venv",
   "language": "python",
   "name": "python3"
  },
  "language_info": {
   "codemirror_mode": {
    "name": "ipython",
    "version": 3
   },
   "file_extension": ".py",
   "mimetype": "text/x-python",
   "name": "python",
   "nbconvert_exporter": "python",
   "pygments_lexer": "ipython3",
   "version": "3.9.0"
  }
 },
 "nbformat": 4,
 "nbformat_minor": 2
}

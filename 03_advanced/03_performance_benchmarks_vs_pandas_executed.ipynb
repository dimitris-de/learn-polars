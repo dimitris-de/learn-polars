{
 "cells": [
  {
   "cell_type": "markdown",
   "metadata": {},
   "source": [
    "# Performance Benchmarks: Polars vs Pandas\n",
    "\n",
    "This notebook compares the performance of Polars and Pandas for common data processing operations using the same datasets."
   ]
  },
  {
   "cell_type": "code",
   "execution_count": null,
   "metadata": {
    "execution": {
     "iopub.execute_input": "2025-04-21T17:00:04.685098Z",
     "iopub.status.busy": "2025-04-21T17:00:04.684094Z",
     "iopub.status.idle": "2025-04-21T17:00:05.698940Z",
     "shell.execute_reply": "2025-04-21T17:00:05.697793Z"
    }
   },
   "outputs": [],
   "source": [
    "import os\n",
    "import polars as pl\n",
    "import pandas as pd\n",
    "import numpy as np\n",
    "import time\n"
   ]
  },
  {
   "cell_type": "markdown",
   "metadata": {},
   "source": [
    "## 1. Locate Datasets\n",
    "Set up the path to the datasets directory."
   ]
  },
  {
   "cell_type": "code",
   "execution_count": null,
   "metadata": {
    "execution": {
     "iopub.execute_input": "2025-04-21T17:00:05.703427Z",
     "iopub.status.busy": "2025-04-21T17:00:05.702954Z",
     "iopub.status.idle": "2025-04-21T17:00:05.707931Z",
     "shell.execute_reply": "2025-04-21T17:00:05.707073Z"
    }
   },
   "outputs": [],
   "source": [
    "datasets_dir = os.path.abspath(os.path.join('..', 'datasets'))\n"
   ]
  },
  {
   "cell_type": "markdown",
   "metadata": {},
   "source": [
    "## 2. Define Benchmark Function\n",
    "A helper function to compare execution times for Polars and Pandas."
   ]
  },
  {
   "cell_type": "code",
   "execution_count": null,
   "metadata": {
    "execution": {
     "iopub.execute_input": "2025-04-21T17:00:05.712036Z",
     "iopub.status.busy": "2025-04-21T17:00:05.711637Z",
     "iopub.status.idle": "2025-04-21T17:00:05.720334Z",
     "shell.execute_reply": "2025-04-21T17:00:05.719421Z"
    }
   },
   "outputs": [],
   "source": [
    "def benchmark(name, polars_fn, pandas_fn, repeat=5):\n",
    "    \"\"\"Run benchmark comparing polars vs pandas performance\"\"\"\n",
    "    polars_fn()\n",
    "    pandas_fn()\n",
    "    polars_times = []\n",
    "    for _ in range(repeat):\n",
    "        start = time.time()\n",
    "        polars_fn()\n",
    "        polars_times.append(time.time() - start)\n",
    "    pandas_times = []\n",
    "    for _ in range(repeat):\n",
    "        start = time.time()\n",
    "        pandas_fn()\n",
    "        pandas_times.append(time.time() - start)\n",
    "    polars_avg = sum(polars_times) / repeat\n",
    "    pandas_avg = sum(pandas_times) / repeat\n",
    "    speedup = pandas_avg / polars_avg\n",
    "    print(f'\\n{name} Benchmark:')\n",
    "    print(f'Polars: {polars_avg:.4f}s')\n",
    "    print(f'Pandas: {pandas_avg:.4f}s')\n",
    "    print(f'Speedup: {speedup:.2f}x')\n",
    "    return {\"name\": name, \"polars_time\": polars_avg, \"pandas_time\": pandas_avg, \"speedup\": speedup}\n"
   ]
  },
  {
   "cell_type": "markdown",
   "metadata": {},
   "source": [
    "## 3. Benchmark 1: Data Loading\n",
    "Compare the time to load a CSV file with Polars and Pandas."
   ]
  },
  {
   "cell_type": "code",
   "execution_count": null,
   "metadata": {
    "execution": {
     "iopub.execute_input": "2025-04-21T17:00:05.724194Z",
     "iopub.status.busy": "2025-04-21T17:00:05.723795Z",
     "iopub.status.idle": "2025-04-21T17:00:05.760471Z",
     "shell.execute_reply": "2025-04-21T17:00:05.759269Z"
    }
   },
   "outputs": [],
   "source": [
    "def polars_load():\n",
    "    df = pl.read_csv(f'{datasets_dir}/transactions.csv')\n",
    "    return df\n",
    "def pandas_load():\n",
    "    df = pd.read_csv(f'{datasets_dir}/transactions.csv')\n",
    "    return df\n",
    "load_result = benchmark('Data Loading', polars_load, pandas_load)\n"
   ]
  },
  {
   "cell_type": "markdown",
   "metadata": {},
   "source": [
    "## 4. Benchmark 2: Filtering\n",
    "Compare filtering rows with Polars and Pandas."
   ]
  },
  {
   "cell_type": "code",
   "execution_count": null,
   "metadata": {
    "execution": {
     "iopub.execute_input": "2025-04-21T17:00:05.764325Z",
     "iopub.status.busy": "2025-04-21T17:00:05.763920Z",
     "iopub.status.idle": "2025-04-21T17:00:05.791487Z",
     "shell.execute_reply": "2025-04-21T17:00:05.789496Z"
    }
   },
   "outputs": [],
   "source": [
    "polars_df = pl.read_csv(f'{datasets_dir}/transactions.csv')\n",
    "pandas_df = pd.read_csv(f'{datasets_dir}/transactions.csv')\n",
    "def polars_filter():\n",
    "    return polars_df.filter(pl.col('amount') > 5000)\n",
    "def pandas_filter():\n",
    "    return pandas_df[pandas_df['amount'] > 5000]\n",
    "filter_result = benchmark('Filtering', polars_filter, pandas_filter)\n"
   ]
  },
  {
   "cell_type": "markdown",
   "metadata": {},
   "source": [
    "## 5. Benchmark 3: GroupBy & Aggregation\n",
    "Compare groupby and aggregation performance."
   ]
  },
  {
   "cell_type": "code",
   "execution_count": null,
   "metadata": {
    "execution": {
     "iopub.execute_input": "2025-04-21T17:00:05.798259Z",
     "iopub.status.busy": "2025-04-21T17:00:05.797501Z",
     "iopub.status.idle": "2025-04-21T17:00:05.846375Z",
     "shell.execute_reply": "2025-04-21T17:00:05.845173Z"
    }
   },
   "outputs": [],
   "source": [
    "def polars_groupby():\n",
    "    return polars_df.group_by('client_id').agg(pl.sum('amount').alias('total_amount'))\n",
    "def pandas_groupby():\n",
    "    return pandas_df.groupby('client_id')['amount'].sum().reset_index()\n",
    "groupby_result = benchmark('GroupBy & Aggregation', polars_groupby, pandas_groupby)\n",
    "group_res = polars_groupby()\n",
    "print(f'\\nUnique groups: {group_res.shape[0]} clients')\n"
   ]
  },
  {
   "cell_type": "markdown",
   "metadata": {},
   "source": [
    "## 6. Benchmark 4: Join Operation\n",
    "Compare join performance between Polars and Pandas."
   ]
  },
  {
   "cell_type": "code",
   "execution_count": null,
   "metadata": {
    "execution": {
     "iopub.execute_input": "2025-04-21T17:00:05.853524Z",
     "iopub.status.busy": "2025-04-21T17:00:05.853096Z",
     "iopub.status.idle": "2025-04-21T17:00:05.882548Z",
     "shell.execute_reply": "2025-04-21T17:00:05.881623Z"
    }
   },
   "outputs": [],
   "source": [
    "clients_pl = pl.read_csv(f'{datasets_dir}/clients.csv')\n",
    "clients_pd = pd.read_csv(f'{datasets_dir}/clients.csv')\n",
    "def polars_join():\n",
    "    return polars_df.join(clients_pl, on='client_id')\n",
    "def pandas_join():\n",
    "    return pandas_df.merge(clients_pd, on='client_id')\n",
    "join_result = benchmark('Join Operation', polars_join, pandas_join)\n"
   ]
  },
  {
   "cell_type": "markdown",
   "metadata": {},
   "source": [
    "## 7. Results Summary\n",
    "We collect all benchmark results and display them as a table."
   ]
  },
  {
   "cell_type": "code",
   "execution_count": null,
   "metadata": {
    "execution": {
     "iopub.execute_input": "2025-04-21T17:00:05.886754Z",
     "iopub.status.busy": "2025-04-21T17:00:05.886344Z",
     "iopub.status.idle": "2025-04-21T17:00:05.896294Z",
     "shell.execute_reply": "2025-04-21T17:00:05.895375Z"
    }
   },
   "outputs": [],
   "source": [
    "results = [load_result, filter_result, groupby_result, join_result]\n",
    "names = [r['name'] for r in results]\n",
    "polars_times = [r['polars_time'] for r in results]\n",
    "pandas_times = [r['pandas_time'] for r in results]\n",
    "speedups = [r['speedup'] for r in results]\n",
    "results_df = pl.DataFrame({\n",
    "    'operation': names,\n",
    "    'polars_time': polars_times,\n",
    "    'pandas_time': pandas_times,\n",
    "    'speedup': speedups\n",
    "})\n",
    "print('Benchmark Results Summary:')\n",
    "print(results_df)\n",
    "results_df.write_csv(f'{datasets_dir}/benchmark_results.csv')\n"
   ]
  }
 ],
 "metadata": {
  "kernelspec": {
   "display_name": ".venv",
   "language": "python",
   "name": "python3"
  },
  "language_info": {
   "codemirror_mode": {
    "name": "ipython",
    "version": 3
   },
   "file_extension": ".py",
   "mimetype": "text/x-python",
   "name": "python",
   "nbconvert_exporter": "python",
   "pygments_lexer": "ipython3",
   "version": "3.9.0"
  }
 },
 "nbformat": 4,
 "nbformat_minor": 2
}

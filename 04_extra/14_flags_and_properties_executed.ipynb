{
 "cells": [
  {
   "cell_type": "markdown",
   "id": "8181daf6",
   "metadata": {},
   "source": [
    "# 14_flags_and_properties.ipynb\n",
    "Demonstrates DataFrame and Series flags and properties not yet shown."
   ]
  },
  {
   "cell_type": "code",
   "execution_count": null,
   "id": "243ae210",
   "metadata": {
    "execution": {
     "iopub.execute_input": "2025-04-21T17:00:51.056076Z",
     "iopub.status.busy": "2025-04-21T17:00:51.055422Z",
     "iopub.status.idle": "2025-04-21T17:00:51.296453Z",
     "shell.execute_reply": "2025-04-21T17:00:51.295267Z"
    }
   },
   "outputs": [],
   "source": [
    "import polars as pl\n",
    "\n",
    "df = pl.DataFrame({'a': [1, 2, 3], 'b': [4, 5, 6]})\n",
    "\n",
    "print('DataFrame flags:', df.flags)\n",
    "print('DataFrame columns:', df.columns)\n",
    "print('DataFrame shape:', df.shape)\n",
    "print('DataFrame height:', df.height)\n",
    "print('DataFrame width:', df.width)\n",
    "print('DataFrame is_empty:', df.is_empty())\n",
    "\n",
    "s = df['a']\n",
    "print('Series flags:', s.flags)\n",
    "print('Series dtype:', s.dtype)\n",
    "print('Series shape:', s.shape)\n",
    "print('Series n_chunks:', s.n_chunks)\n",
    "print('Series is_sorted:', s.is_sorted())\n",
    "print('Series is_null:', s.is_null())\n",
    "print('Series is_not_null:', s.is_not_null())\n"
   ]
  }
 ],
 "metadata": {
  "kernelspec": {
   "display_name": ".venv",
   "language": "python",
   "name": "python3"
  },
  "language_info": {
   "codemirror_mode": {
    "name": "ipython",
    "version": 3
   },
   "file_extension": ".py",
   "mimetype": "text/x-python",
   "name": "python",
   "nbconvert_exporter": "python",
   "pygments_lexer": "ipython3",
   "version": "3.9.0"
  }
 },
 "nbformat": 4,
 "nbformat_minor": 5
}

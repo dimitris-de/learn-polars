{
 "cells": [
  {
   "cell_type": "markdown",
   "id": "8bceaefd",
   "metadata": {},
   "source": [
    "# 02_pipe_and_partition_by.ipynb\n",
    "Demonstrates DataFrame.pipe and DataFrame.partition_by."
   ]
  },
  {
   "cell_type": "code",
   "execution_count": null,
   "id": "279efe6e",
   "metadata": {
    "execution": {
     "iopub.execute_input": "2025-04-21T17:00:15.918578Z",
     "iopub.status.busy": "2025-04-21T17:00:15.918173Z",
     "iopub.status.idle": "2025-04-21T17:00:16.063158Z",
     "shell.execute_reply": "2025-04-21T17:00:16.062237Z"
    }
   },
   "outputs": [],
   "source": [
    "import polars as pl\n",
    "\n",
    "def add_one(df: pl.DataFrame) -> pl.DataFrame:\n",
    "    return df.with_columns((pl.col('a') + 1).alias('a_plus_one'))\n",
    "\n",
    "df = pl.DataFrame({'a': [1, 2, 3, 4], 'b': ['x', 'y', 'x', 'y']})\n",
    "\n",
    "# Use pipe to apply a function\n",
    "df2 = df.pipe(add_one)\n",
    "print('After pipe:')\n",
    "print(df2)\n",
    "\n",
    "# Partition by column 'b'\n",
    "partitions = df.partition_by('b')\n",
    "print('Partitions:')\n",
    "for part in partitions:\n",
    "    print(part)\n"
   ]
  }
 ],
 "metadata": {
  "kernelspec": {
   "display_name": "Python 3",
   "language": "python",
   "name": "python3"
  },
  "language_info": {
   "codemirror_mode": {
    "name": "ipython",
    "version": 3
   },
   "file_extension": ".py",
   "mimetype": "text/x-python",
   "name": "python",
   "nbconvert_exporter": "python",
   "pygments_lexer": "ipython3",
   "version": "3.9.0"
  }
 },
 "nbformat": 4,
 "nbformat_minor": 5
}

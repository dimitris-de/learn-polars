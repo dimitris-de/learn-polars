{
 "cells": [
  {
   "cell_type": "markdown",
   "id": "8daad89a",
   "metadata": {},
   "source": [
    "# Polars SQL: Basic Usage\n",
    "\n",
    "This notebook demonstrates how to use SQL queries with Polars DataFrames."
   ]
  },
  {
   "cell_type": "code",
   "execution_count": null,
   "id": "9b64f7c1",
   "metadata": {
    "execution": {
     "iopub.execute_input": "2025-04-21T17:00:53.660309Z",
     "iopub.status.busy": "2025-04-21T17:00:53.659660Z",
     "iopub.status.idle": "2025-04-21T17:00:53.858623Z",
     "shell.execute_reply": "2025-04-21T17:00:53.857294Z"
    }
   },
   "outputs": [],
   "source": [
    "# Polars SQL: Basic Usage\n",
    "# This notebook demonstrates how to use SQL queries with Polars DataFrames (Polars 1.x+).\n",
    "\n",
    "import polars as pl\n",
    "\n",
    "# Create your DataFrame\n",
    "df = pl.DataFrame({\n",
    "    'city': ['Athens', 'London', 'Paris', 'Paris', 'London'],\n",
    "    'population': [3.1, 8.9, 2.1, 2.2, 9.0],\n",
    "    'country': ['Greece', 'UK', 'France', 'France', 'UK']\n",
    "})\n",
    "\n",
    "# Create a SQLContext and register the DataFrame as a table\n",
    "ctx = pl.SQLContext()\n",
    "ctx.register(\"cities\", df)\n",
    "\n",
    "# Example 1: Simple SELECT\n",
    "result1 = ctx.execute(\"SELECT city, population FROM cities\").collect()\n",
    "print(\"Simple SELECT:\\n\", result1)\n",
    "\n",
    "# Example 2: WHERE clause\n",
    "result2 = ctx.execute(\"SELECT * FROM cities WHERE country = 'UK'\").collect()\n",
    "print(\"\\nWHERE clause:\\n\", result2)\n",
    "\n",
    "# Example 3: Aggregation\n",
    "result3 = ctx.execute(\"SELECT country, AVG(population) as avg_pop FROM cities GROUP BY country\").collect()\n",
    "print(\"\\nAggregation:\\n\", result3)\n",
    "\n",
    "# ---\n",
    "# Notes:\n",
    "# - Use ctx.register() to register DataFrames as SQL tables.\n",
    "# - Use ctx.execute() to run SQL queries, and .collect() to get the result as a DataFrame.\n",
    "# - The table name in SQL must match the name used in ctx.register()."
   ]
  },
  {
   "cell_type": "markdown",
   "id": "8b84755d",
   "metadata": {},
   "source": [
    "---\n",
    "\n",
    "## Notes\n",
    "- You can use SQL queries directly on Polars DataFrames with the `.sql()` method.\n",
    "- The special table name `self` refers to the DataFrame itself.\n",
    "- Use standard SQL syntax for filtering, grouping, and aggregation.\n",
    "- See more examples in the next notebook!\n"
   ]
  }
 ],
 "metadata": {
  "kernelspec": {
   "display_name": ".venv",
   "language": "python",
   "name": "python3"
  },
  "language_info": {
   "codemirror_mode": {
    "name": "ipython",
    "version": 3
   },
   "file_extension": ".py",
   "mimetype": "text/x-python",
   "name": "python",
   "nbconvert_exporter": "python",
   "pygments_lexer": "ipython3",
   "version": "3.9.0"
  }
 },
 "nbformat": 4,
 "nbformat_minor": 5
}

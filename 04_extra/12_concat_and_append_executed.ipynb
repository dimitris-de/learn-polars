{
 "cells": [
  {
   "cell_type": "markdown",
   "id": "16082411",
   "metadata": {},
   "source": [
    "# 12_concat_and_append.ipynb\n",
    "Demonstrates horizontal and vertical concatenation and append."
   ]
  },
  {
   "cell_type": "code",
   "execution_count": null,
   "id": "6f71a050",
   "metadata": {
    "execution": {
     "iopub.execute_input": "2025-04-21T17:00:43.154527Z",
     "iopub.status.busy": "2025-04-21T17:00:43.153912Z",
     "iopub.status.idle": "2025-04-21T17:00:43.319563Z",
     "shell.execute_reply": "2025-04-21T17:00:43.318340Z"
    }
   },
   "outputs": [],
   "source": [
    "import polars as pl\n",
    "\n",
    "# Vertical concatenation\n",
    "df1 = pl.DataFrame({'a': [1, 2], 'b': [3, 4]})\n",
    "df2 = pl.DataFrame({'a': [5, 6], 'b': [7, 8]})\n",
    "vertical = pl.concat([df1, df2], how='vertical')\n",
    "print('Vertical concat:')\n",
    "print(vertical)\n",
    "\n",
    "# Horizontal concatenation\n",
    "df3 = pl.DataFrame({'c': [9, 10, 11, 12]})\n",
    "horizontal = pl.concat([vertical, df3], how='horizontal')\n",
    "print('Horizontal concat:')\n",
    "print(horizontal)\n",
    "\n",
    "# Append (in-place)\n",
    "df1_appended = df1.clone()\n",
    "df1_appended.vstack(df2)\n",
    "print('Appended:')\n",
    "print(df1_appended)\n"
   ]
  }
 ],
 "metadata": {
  "kernelspec": {
   "display_name": ".venv",
   "language": "python",
   "name": "python3"
  },
  "language_info": {
   "codemirror_mode": {
    "name": "ipython",
    "version": 3
   },
   "file_extension": ".py",
   "mimetype": "text/x-python",
   "name": "python",
   "nbconvert_exporter": "python",
   "pygments_lexer": "ipython3",
   "version": "3.9.0"
  }
 },
 "nbformat": 4,
 "nbformat_minor": 5
}

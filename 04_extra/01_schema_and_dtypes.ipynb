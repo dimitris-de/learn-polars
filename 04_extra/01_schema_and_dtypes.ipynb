{
 "cells": [
  {
   "cell_type": "markdown",
   "id": "59bd493f",
   "metadata": {},
   "source": [
    "# 01_schema_and_dtypes.ipynb\n",
    "Demonstrates DataFrame and Series meta-information: schema, dtypes, shape, columns, flags."
   ]
  },
  {
   "cell_type": "code",
   "execution_count": null,
   "id": "8c169bff",
   "metadata": {
    "execution": {
     "iopub.execute_input": "2025-04-21T17:00:09.976738Z",
     "iopub.status.busy": "2025-04-21T17:00:09.976323Z",
     "iopub.status.idle": "2025-04-21T17:00:10.129390Z",
     "shell.execute_reply": "2025-04-21T17:00:10.128473Z"
    }
   },
   "outputs": [],
   "source": [
    "import polars as pl\n",
    "\n",
    "# Example DataFrame\n",
    "df = pl.DataFrame({\n",
    "    'a': [1, 2, 3],\n",
    "    'b': [4.0, 5.0, 6.0],\n",
    "    'c': ['x', 'y', 'z']\n",
    "})\n",
    "\n",
    "print('Schema:', df.schema)\n",
    "print('Dtypes:', df.dtypes)\n",
    "print('Shape:', df.shape)\n",
    "print('Columns:', df.columns)\n",
    "print('Flags:', df.flags)\n",
    "\n",
    "# Series meta-info\n",
    "s = df['b']\n",
    "print('Series dtype:', s.dtype)\n",
    "print('Series shape:', s.shape)\n",
    "print('Series name:', s.name)\n"
   ]
  }
 ],
 "metadata": {
  "kernelspec": {
   "display_name": ".venv",
   "language": "python",
   "name": "python3"
  },
  "language_info": {
   "codemirror_mode": {
    "name": "ipython",
    "version": 3
   },
   "file_extension": ".py",
   "mimetype": "text/x-python",
   "name": "python",
   "nbconvert_exporter": "python",
   "pygments_lexer": "ipython3",
   "version": "3.9.0"
  }
 },
 "nbformat": 4,
 "nbformat_minor": 5
}

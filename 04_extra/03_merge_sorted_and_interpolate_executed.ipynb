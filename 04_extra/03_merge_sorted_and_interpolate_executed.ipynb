{
 "cells": [
  {
   "cell_type": "markdown",
   "id": "4e93d91b",
   "metadata": {},
   "source": [
    "# 03_merge_sorted_and_interpolate.ipynb\n",
    "Demonstrates DataFrame.merge_sorted and DataFrame.interpolate."
   ]
  },
  {
   "cell_type": "code",
   "execution_count": null,
   "id": "702eb837",
   "metadata": {
    "execution": {
     "iopub.execute_input": "2025-04-21T17:00:19.877586Z",
     "iopub.status.busy": "2025-04-21T17:00:19.877186Z",
     "iopub.status.idle": "2025-04-21T17:00:20.035638Z",
     "shell.execute_reply": "2025-04-21T17:00:20.031405Z"
    }
   },
   "outputs": [],
   "source": [
    "import polars as pl\n",
    "\n",
    "# Example: merge_sorted\n",
    "left = pl.DataFrame({'a': [1, 3, 5], 'b': [10, 30, 50]})\n",
    "right = pl.DataFrame({'a': [2, 4, 6], 'b': [20, 40, 60]})\n",
    "merged = left.merge_sorted(right, key='a')\n",
    "print('Merge sorted:')\n",
    "print(merged)\n",
    "\n",
    "# Example: interpolate\n",
    "df = pl.DataFrame({'x': [1, 2, 3, 4, 5], 'y': [10.0, None, 30.0, None, 50.0]})\n",
    "interpolated = df.with_columns(pl.col('y').interpolate().alias('y_interp'))\n",
    "print('Interpolated:')\n",
    "print(interpolated)\n"
   ]
  }
 ],
 "metadata": {
  "kernelspec": {
   "display_name": "Python 3",
   "language": "python",
   "name": "python3"
  },
  "language_info": {
   "codemirror_mode": {
    "name": "ipython",
    "version": 3
   },
   "file_extension": ".py",
   "mimetype": "text/x-python",
   "name": "python",
   "nbconvert_exporter": "python",
   "pygments_lexer": "ipython3",
   "version": "3.9.0"
  }
 },
 "nbformat": 4,
 "nbformat_minor": 5
}

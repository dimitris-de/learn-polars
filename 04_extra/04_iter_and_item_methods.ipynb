{
 "cells": [
  {
   "cell_type": "markdown",
   "id": "52dc99ad",
   "metadata": {},
   "source": [
    "# 04_iter_and_item_methods.ipynb\n",
    "Demonstrates DataFrame item, iter_columns, iter_rows, iter_slices."
   ]
  },
  {
   "cell_type": "code",
   "execution_count": null,
   "id": "2f357c3c",
   "metadata": {
    "execution": {
     "iopub.execute_input": "2025-04-21T17:00:21.835849Z",
     "iopub.status.busy": "2025-04-21T17:00:21.835461Z",
     "iopub.status.idle": "2025-04-21T17:00:21.989662Z",
     "shell.execute_reply": "2025-04-21T17:00:21.988763Z"
    }
   },
   "outputs": [],
   "source": [
    "import polars as pl\n",
    "\n",
    "df = pl.DataFrame({\n",
    "    'a': [1, 2, 3],\n",
    "    'b': [4, 5, 6],\n",
    "    'c': [7, 8, 9]\n",
    "})\n",
    "\n",
    "# item: get a single value\n",
    "print('Item (row 1, col \"b\"):', df.item(1, 'b'))\n",
    "\n",
    "# iter_columns\n",
    "print('Columns:')\n",
    "for col in df.iter_columns():\n",
    "    print(col)\n",
    "\n",
    "# iter_rows\n",
    "print('Rows:')\n",
    "for row in df.iter_rows():\n",
    "    print(row)\n",
    "\n",
    "# iter_slices\n",
    "print('Slices:')\n",
    "for sl in df.iter_slices(n_rows=2):\n",
    "    print(sl)\n"
   ]
  }
 ],
 "metadata": {
  "kernelspec": {
   "display_name": "Python 3",
   "language": "python",
   "name": "python3"
  },
  "language_info": {
   "codemirror_mode": {
    "name": "ipython",
    "version": 3
   },
   "file_extension": ".py",
   "mimetype": "text/x-python",
   "name": "python",
   "nbconvert_exporter": "python",
   "pygments_lexer": "ipython3",
   "version": "3.9.0"
  }
 },
 "nbformat": 4,
 "nbformat_minor": 5
}

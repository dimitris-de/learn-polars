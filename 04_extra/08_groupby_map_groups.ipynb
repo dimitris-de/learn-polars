{
 "cells": [
  {
   "cell_type": "markdown",
   "id": "0638bf27",
   "metadata": {},
   "source": [
    "# 08_groupby_map_groups.ipynb\n",
    "Demonstrates groupby with map_groups for custom group-wise operations."
   ]
  },
  {
   "cell_type": "code",
   "execution_count": null,
   "id": "8bf044eb",
   "metadata": {
    "execution": {
     "iopub.execute_input": "2025-04-21T17:00:32.510524Z",
     "iopub.status.busy": "2025-04-21T17:00:32.510138Z",
     "iopub.status.idle": "2025-04-21T17:00:32.647700Z",
     "shell.execute_reply": "2025-04-21T17:00:32.646843Z"
    }
   },
   "outputs": [],
   "source": [
    "import polars as pl\n",
    "\n",
    "df = pl.DataFrame({\n",
    "    'group': ['A', 'A', 'B', 'B'],\n",
    "    'value': [1, 2, 3, 4]\n",
    "})\n",
    "\n",
    "pl.Config.set_tbl_rows(10)\n",
    "result = df.sql(\"SELECT group, SUM(value) as sum, AVG(value) as mean FROM self GROUP BY group\")\n",
    "print(result)\n"
   ]
  }
 ],
 "metadata": {
  "kernelspec": {
   "display_name": ".venv",
   "language": "python",
   "name": "python3"
  },
  "language_info": {
   "codemirror_mode": {
    "name": "ipython",
    "version": 3
   },
   "file_extension": ".py",
   "mimetype": "text/x-python",
   "name": "python",
   "nbconvert_exporter": "python",
   "pygments_lexer": "ipython3",
   "version": "3.9.0"
  }
 },
 "nbformat": 4,
 "nbformat_minor": 5
}

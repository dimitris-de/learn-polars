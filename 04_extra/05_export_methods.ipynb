{
 "cells": [
  {
   "cell_type": "markdown",
   "id": "b0059660",
   "metadata": {},
   "source": [
    "# 05_export_methods.ipynb\n",
    "Demonstrates DataFrame export methods: to_arrow, to_numpy, to_dict, to_struct."
   ]
  },
  {
   "cell_type": "code",
   "execution_count": null,
   "id": "f9e12a8f",
   "metadata": {
    "execution": {
     "iopub.execute_input": "2025-04-21T17:00:25.927585Z",
     "iopub.status.busy": "2025-04-21T17:00:25.927163Z",
     "iopub.status.idle": "2025-04-21T17:00:26.487835Z",
     "shell.execute_reply": "2025-04-21T17:00:26.486314Z"
    }
   },
   "outputs": [],
   "source": [
    "import polars as pl\n",
    "import numpy as np\n",
    "\n",
    "# Example DataFrame\n",
    "df = pl.DataFrame({\n",
    "    'a': [1, 2, 3],\n",
    "    'b': [4.0, 5.0, 6.0],\n",
    "    'c': ['x', 'y', 'z']\n",
    "})\n",
    "\n",
    "# to_arrow\n",
    "arrow_tbl = df.to_arrow()\n",
    "print('Arrow Table:', arrow_tbl)\n",
    "\n",
    "# to_numpy\n",
    "np_arr = df.to_numpy()\n",
    "print('NumPy array:\\n', np_arr)\n",
    "\n",
    "# to_dict\n",
    "as_dict = df.to_dict()\n",
    "print('Dict:\\n', as_dict)\n",
    "\n",
    "# to_struct (returns a Series of structs)\n",
    "struct_col = df.to_struct()\n",
    "print('Struct Series:\\n', struct_col)\n"
   ]
  }
 ],
 "metadata": {
  "kernelspec": {
   "display_name": "Python 3",
   "language": "python",
   "name": "python3"
  },
  "language_info": {
   "codemirror_mode": {
    "name": "ipython",
    "version": 3
   },
   "file_extension": ".py",
   "mimetype": "text/x-python",
   "name": "python",
   "nbconvert_exporter": "python",
   "pygments_lexer": "ipython3",
   "version": "3.9.0"
  }
 },
 "nbformat": 4,
 "nbformat_minor": 5
}

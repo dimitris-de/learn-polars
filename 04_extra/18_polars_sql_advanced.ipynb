{
 "cells": [
  {
   "cell_type": "markdown",
   "id": "2f228c78",
   "metadata": {},
   "source": [
    "# Polars SQL: Advanced Queries\n",
    "\n",
    "This notebook demonstrates advanced SQL queries in Polars, including subqueries, CTEs, and complex filtering.\n"
   ]
  },
  {
   "cell_type": "code",
   "execution_count": null,
   "id": "9a25cb37",
   "metadata": {
    "execution": {
     "iopub.execute_input": "2025-04-21T17:01:01.079131Z",
     "iopub.status.busy": "2025-04-21T17:01:01.076108Z",
     "iopub.status.idle": "2025-04-21T17:01:01.447725Z",
     "shell.execute_reply": "2025-04-21T17:01:01.444206Z"
    }
   },
   "outputs": [],
   "source": [
    "# Polars SQL: Advanced Queries\n",
    "# Demonstrates advanced SQL queries in Polars 1.x: subqueries, CTEs, complex filtering.\n",
    "\n",
    "import polars as pl\n",
    "\n",
    "df = pl.DataFrame({\n",
    "    'category': ['A', 'A', 'B', 'B', 'C'],\n",
    "    'value': [10, 20, 30, 40, 50],\n",
    "    'score': [1, 2, 3, 4, 5]\n",
    "})\n",
    "\n",
    "ctx = pl.SQLContext()\n",
    "ctx.register(\"df\", df)\n",
    "\n",
    "# Subquery: Find categories with avg value > 20\n",
    "result_subquery = ctx.execute(\"\"\"\n",
    "    SELECT category\n",
    "    FROM (\n",
    "        SELECT category, AVG(value) as avg_val FROM df GROUP BY category\n",
    "    ) AS sub\n",
    "    WHERE avg_val > 20\n",
    "\"\"\").collect()\n",
    "print(\"Categories with avg(value) > 20:\\n\", result_subquery)\n",
    "\n",
    "# CTE (WITH clause)\n",
    "result_cte = ctx.execute(\"\"\"\n",
    "    WITH high_scores AS (\n",
    "        SELECT * FROM df WHERE score > 3\n",
    "    )\n",
    "    SELECT * FROM high_scores\n",
    "\"\"\").collect()\n",
    "print(\"\\nCTE - high_scores:\\n\", result_cte)\n",
    "\n",
    "# Complex filtering\n",
    "result_filter = ctx.execute(\"\"\"\n",
    "    SELECT * FROM df\n",
    "    WHERE value BETWEEN 20 AND 40 AND score < 5\n",
    "\"\"\").collect()\n",
    "print(\"\\nComplex filtering:\\n\", result_filter)\n",
    "\n",
    "# ---\n",
    "# Notes:\n",
    "# - Use subqueries for intermediate calculations.\n",
    "# - Use CTEs (WITH clause) for clarity and reuse.\n",
    "# - Complex filtering is supported with standard SQL syntax."
   ]
  },
  {
   "cell_type": "markdown",
   "id": "87e3fe12",
   "metadata": {},
   "source": [
    "---\n",
    "\n",
    "## Notes\n",
    "- Use subqueries for intermediate calculations.\n",
    "- Use CTEs (WITH clause) for clarity and reuse.\n",
    "- Complex filtering is supported with standard SQL syntax.\n",
    "- Check Polars SQL documentation for more advanced features.\n"
   ]
  }
 ],
 "metadata": {
  "kernelspec": {
   "display_name": ".venv",
   "language": "python",
   "name": "python3"
  },
  "language_info": {
   "codemirror_mode": {
    "name": "ipython",
    "version": 3
   },
   "file_extension": ".py",
   "mimetype": "text/x-python",
   "name": "python",
   "nbconvert_exporter": "python",
   "pygments_lexer": "ipython3",
   "version": "3.9.0"
  }
 },
 "nbformat": 4,
 "nbformat_minor": 5
}

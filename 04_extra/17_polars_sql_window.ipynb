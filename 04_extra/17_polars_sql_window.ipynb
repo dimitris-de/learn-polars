{
 "cells": [
  {
   "cell_type": "markdown",
   "id": "00b2c672",
   "metadata": {},
   "source": [
    "# Polars SQL: Window Functions\n",
    "\n",
    "This notebook demonstrates window functions using SQL queries in Polars.\n",
    "Window functions let you perform calculations across rows related to the current row.\n"
   ]
  },
  {
   "cell_type": "code",
   "execution_count": null,
   "id": "be5e2cb9",
   "metadata": {
    "execution": {
     "iopub.execute_input": "2025-04-21T17:00:58.444342Z",
     "iopub.status.busy": "2025-04-21T17:00:58.443716Z",
     "iopub.status.idle": "2025-04-21T17:00:58.627697Z",
     "shell.execute_reply": "2025-04-21T17:00:58.626425Z"
    }
   },
   "outputs": [],
   "source": [
    "import polars as pl\n",
    "\n",
    "df = pl.DataFrame({\n",
    "    'group': ['A', 'A', 'B', 'B', 'B'],\n",
    "    'value': [10, 20, 30, 40, 50],\n",
    "    'order': [1, 2, 1, 2, 3]\n",
    "})\n",
    "\n",
    "# Add row number per group, ordered by 'order'\n",
    "result_rownum = (\n",
    "    df.sort(['group', 'order'])\n",
    "      .with_columns([\n",
    "          pl.col('order').rank('dense').over('group').alias('rn')\n",
    "      ])\n",
    ")\n",
    "print(\"ROW_NUMBER (Polars expression):\\n\", result_rownum)\n",
    "\n",
    "# Register DataFrame for SQL\n",
    "ctx = pl.SQLContext()\n",
    "ctx.register(\"df\", df)\n",
    "\n",
    "# SUM() OVER window\n",
    "result_sum = ctx.execute(\"\"\"\n",
    "    SELECT group, value, SUM(value) OVER (PARTITION BY group) as group_sum\n",
    "    FROM df\n",
    "\"\"\").collect()\n",
    "print(\"\\nSUM OVER group:\\n\", result_sum)"
   ]
  },
  {
   "cell_type": "markdown",
   "id": "acc58686",
   "metadata": {},
   "source": [
    "---\n",
    "\n",
    "## Notes\n",
    "- Use window functions with OVER, PARTITION BY, and ORDER BY.\n",
    "- Common window functions: ROW_NUMBER, SUM, AVG, MIN, MAX, etc.\n",
    "- See Polars SQL documentation for more window function support.\n"
   ]
  }
 ],
 "metadata": {
  "kernelspec": {
   "display_name": ".venv",
   "language": "python",
   "name": "python3"
  },
  "language_info": {
   "codemirror_mode": {
    "name": "ipython",
    "version": 3
   },
   "file_extension": ".py",
   "mimetype": "text/x-python",
   "name": "python",
   "nbconvert_exporter": "python",
   "pygments_lexer": "ipython3",
   "version": "3.9.0"
  }
 },
 "nbformat": 4,
 "nbformat_minor": 5
}

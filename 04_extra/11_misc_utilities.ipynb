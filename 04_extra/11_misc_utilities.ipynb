{
 "cells": [
  {
   "cell_type": "markdown",
   "id": "c7e39a92",
   "metadata": {},
   "source": [
    "# 11_misc_utilities.ipynb\n",
    "Demonstrates is_empty, is_duplicated, is_unique, sample, shuffle, reverse, rechunk, explode, shrink_to_fit."
   ]
  },
  {
   "cell_type": "code",
   "execution_count": null,
   "id": "b5da06ce",
   "metadata": {
    "execution": {
     "iopub.execute_input": "2025-04-21T17:00:36.198715Z",
     "iopub.status.busy": "2025-04-21T17:00:36.198315Z",
     "iopub.status.idle": "2025-04-21T17:00:36.356392Z",
     "shell.execute_reply": "2025-04-21T17:00:36.354418Z"
    }
   },
   "outputs": [],
   "source": [
    "import polars as pl\n",
    "\n",
    "df = pl.DataFrame({\n",
    "    'a': [1, 2, 2, 4],\n",
    "    'b': ['x', 'y', 'y', 'z']\n",
    "})\n",
    "\n",
    "# is_empty\n",
    "print('Is empty:', df.is_empty())\n",
    "\n",
    "# is_duplicated\n",
    "print('Is duplicated:', df['a'].is_duplicated())\n",
    "\n",
    "# is_unique\n",
    "print('Is unique:', df['a'].is_unique())\n",
    "\n",
    "# sample\n",
    "print('Sample 2 rows:')\n",
    "print(df.sample(2, seed=42))\n",
    "\n",
    "# shuffle\n",
    "print('Shuffled:')\n",
    "print(df.sample(n=df.height, seed=42))\n",
    "\n",
    "# reverse\n",
    "print('Reversed:')\n",
    "print(df.reverse())\n",
    "\n",
    "# rechunk\n",
    "print('Rechunked:')\n",
    "print(df.rechunk())\n",
    "\n",
    "# explode\n",
    "df2 = pl.DataFrame({'a': [[1, 2], [3, 4]], 'b': ['x', 'y']})\n",
    "print(df2.explode('a'))\n",
    "\n",
    "# shrink_to_fit\n",
    "print('Shrink to fit:')\n",
    "df.shrink_to_fit()\n",
    "print(df)\n"
   ]
  }
 ],
 "metadata": {
  "kernelspec": {
   "display_name": ".venv",
   "language": "python",
   "name": "python3"
  },
  "language_info": {
   "codemirror_mode": {
    "name": "ipython",
    "version": 3
   },
   "file_extension": ".py",
   "mimetype": "text/x-python",
   "name": "python",
   "nbconvert_exporter": "python",
   "pygments_lexer": "ipython3",
   "version": "3.9.0"
  }
 },
 "nbformat": 4,
 "nbformat_minor": 5
}

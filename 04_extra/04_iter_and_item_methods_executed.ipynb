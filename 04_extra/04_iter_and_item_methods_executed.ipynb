{
 "cells": [
  {
   "cell_type": "markdown",
   "id": "2a852e20",
   "metadata": {},
   "source": [
    "# 04_iter_and_item_methods.ipynb\n",
    "Demonstrates DataFrame item, iter_columns, iter_rows, iter_slices."
   ]
  },
  {
   "cell_type": "code",
   "execution_count": null,
   "id": "37ac96dc",
   "metadata": {
    "execution": {
     "iopub.execute_input": "2025-04-21T17:00:23.790121Z",
     "iopub.status.busy": "2025-04-21T17:00:23.789727Z",
     "iopub.status.idle": "2025-04-21T17:00:23.930994Z",
     "shell.execute_reply": "2025-04-21T17:00:23.929870Z"
    }
   },
   "outputs": [],
   "source": [
    "import polars as pl\n",
    "\n",
    "df = pl.DataFrame({\n",
    "    'a': [1, 2, 3],\n",
    "    'b': [4, 5, 6],\n",
    "    'c': [7, 8, 9]\n",
    "})\n",
    "\n",
    "# item: get a single value\n",
    "print('Item (row 1, col \"b\"):', df.item(1, 'b'))\n",
    "\n",
    "# iter_columns\n",
    "print('Columns:')\n",
    "for col in df.iter_columns():\n",
    "    print(col)\n",
    "\n",
    "# iter_rows\n",
    "print('Rows:')\n",
    "for row in df.iter_rows():\n",
    "    print(row)\n",
    "\n",
    "# iter_slices\n",
    "print('Slices:')\n",
    "for sl in df.iter_slices(n_rows=2):\n",
    "    print(sl)\n"
   ]
  }
 ],
 "metadata": {
  "kernelspec": {
   "display_name": "Python 3",
   "language": "python",
   "name": "python3"
  },
  "language_info": {
   "codemirror_mode": {
    "name": "ipython",
    "version": 3
   },
   "file_extension": ".py",
   "mimetype": "text/x-python",
   "name": "python",
   "nbconvert_exporter": "python",
   "pygments_lexer": "ipython3",
   "version": "3.9.0"
  }
 },
 "nbformat": 4,
 "nbformat_minor": 5
}

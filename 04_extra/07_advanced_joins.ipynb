{
 "cells": [
  {
   "cell_type": "markdown",
   "id": "b8a2198f",
   "metadata": {},
   "source": [
    "# 07_advanced_joins.ipynb\n",
    "Demonstrates join_asof and join_where."
   ]
  },
  {
   "cell_type": "code",
   "execution_count": null,
   "id": "fd88deb9",
   "metadata": {
    "execution": {
     "iopub.execute_input": "2025-04-21T17:00:30.682560Z",
     "iopub.status.busy": "2025-04-21T17:00:30.682116Z",
     "iopub.status.idle": "2025-04-21T17:00:30.822992Z",
     "shell.execute_reply": "2025-04-21T17:00:30.822151Z"
    }
   },
   "outputs": [],
   "source": [
    "import polars as pl\n",
    "\n",
    "# join_asof example (time series join)\n",
    "df_left = pl.DataFrame({\n",
    "    'time': [1, 2, 3, 4],\n",
    "    'value': [10, 20, 30, 40]\n",
    "})\n",
    "df_right = pl.DataFrame({\n",
    "    'time': [1, 2, 3, 4],\n",
    "    'event': ['A', 'B', 'C', 'D']\n",
    "})\n",
    "joined_asof = df_left.join_asof(df_right, on='time')\n",
    "print('ASOF join:')\n",
    "print(joined_asof)\n",
    "\n",
    "# Standard join example (on column 'a')\n",
    "df_a = pl.DataFrame({'a': [1, 2, 3], 'b': [10, 20, 30]})\n",
    "df_b = pl.DataFrame({'a': [2, 3, 4], 'c': [200, 300, 400]})\n",
    "joined = df_a.join(df_b, on=\"a\", how=\"inner\")\n",
    "print('INNER join:')\n",
    "print(joined)"
   ]
  }
 ],
 "metadata": {
  "kernelspec": {
   "display_name": ".venv",
   "language": "python",
   "name": "python3"
  },
  "language_info": {
   "codemirror_mode": {
    "name": "ipython",
    "version": 3
   },
   "file_extension": ".py",
   "mimetype": "text/x-python",
   "name": "python",
   "nbconvert_exporter": "python",
   "pygments_lexer": "ipython3",
   "version": "3.9.0"
  }
 },
 "nbformat": 4,
 "nbformat_minor": 5
}

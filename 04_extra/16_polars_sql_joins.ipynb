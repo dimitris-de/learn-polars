{
 "cells": [
  {
   "cell_type": "markdown",
   "id": "1df4b2bb",
   "metadata": {},
   "source": [
    "# Polars SQL: Join Operations\n",
    "\n",
    "This notebook demonstrates different types of joins using SQL queries in Polars."
   ]
  },
  {
   "cell_type": "code",
   "execution_count": null,
   "id": "af284f07",
   "metadata": {
    "execution": {
     "iopub.execute_input": "2025-04-21T17:00:56.187123Z",
     "iopub.status.busy": "2025-04-21T17:00:56.186416Z",
     "iopub.status.idle": "2025-04-21T17:00:56.387194Z",
     "shell.execute_reply": "2025-04-21T17:00:56.385570Z"
    }
   },
   "outputs": [],
   "source": [
    "# Polars SQL: Join Operations\n",
    "# Demonstrates different types of joins using SQL queries in Polars 1.x.\n",
    "\n",
    "import polars as pl\n",
    "\n",
    "# Create example DataFrames\n",
    "left = pl.DataFrame({\n",
    "    'id': [1, 2, 3, 4],\n",
    "    'name': ['Alice', 'Bob', 'Charlie', 'Diana']\n",
    "})\n",
    "right = pl.DataFrame({\n",
    "    'id': [3, 4, 5],\n",
    "    'country': ['France', 'UK', 'Greece']\n",
    "})\n",
    "\n",
    "# Create a SQLContext and register tables\n",
    "ctx = pl.SQLContext()\n",
    "ctx.register(\"left\", left)\n",
    "ctx.register(\"right\", right)\n",
    "\n",
    "# INNER JOIN\n",
    "result_inner = ctx.execute(\"\"\"\n",
    "    SELECT l.id, l.name, r.country\n",
    "    FROM left l\n",
    "    INNER JOIN right r ON l.id = r.id\n",
    "\"\"\").collect()\n",
    "print(\"INNER JOIN:\\n\", result_inner)\n",
    "\n",
    "# LEFT JOIN\n",
    "result_left = ctx.execute(\"\"\"\n",
    "    SELECT l.id, l.name, r.country\n",
    "    FROM left l\n",
    "    LEFT JOIN right r ON l.id = r.id\n",
    "\"\"\").collect()\n",
    "print(\"\\nLEFT JOIN:\\n\", result_left)\n",
    "\n",
    "# FULL OUTER JOIN\n",
    "result_full = ctx.execute(\"\"\"\n",
    "    SELECT l.id, l.name, r.country\n",
    "    FROM left l\n",
    "    FULL OUTER JOIN right r ON l.id = r.id\n",
    "\"\"\").collect()\n",
    "print(\"\\nFULL OUTER JOIN:\\n\", result_full)\n",
    "\n",
    "# ---\n",
    "# Notes:\n",
    "# - Register each DataFrame as a table with ctx.register().\n",
    "# - Use standard SQL join syntax in ctx.execute()."
   ]
  },
  {
   "cell_type": "markdown",
   "id": "275a4d04",
   "metadata": {},
   "source": [
    "---\n",
    "\n",
    "## Notes\n",
    "- You can register multiple DataFrames as SQL tables using `pl.register_sql_table()`.\n",
    "- Use standard SQL join syntax: INNER, LEFT, RIGHT, FULL OUTER.\n",
    "- Explore more join types and SQL features in Polars documentation.\n"
   ]
  }
 ],
 "metadata": {
  "kernelspec": {
   "display_name": ".venv",
   "language": "python",
   "name": "python3"
  },
  "language_info": {
   "codemirror_mode": {
    "name": "ipython",
    "version": 3
   },
   "file_extension": ".py",
   "mimetype": "text/x-python",
   "name": "python",
   "nbconvert_exporter": "python",
   "pygments_lexer": "ipython3",
   "version": "3.9.0"
  }
 },
 "nbformat": 4,
 "nbformat_minor": 5
}

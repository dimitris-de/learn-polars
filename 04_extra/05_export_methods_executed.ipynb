{
 "cells": [
  {
   "cell_type": "markdown",
   "id": "a5c9576f",
   "metadata": {},
   "source": [
    "# 05_export_methods.ipynb\n",
    "Demonstrates DataFrame export methods: to_arrow, to_numpy, to_dict, to_struct."
   ]
  },
  {
   "cell_type": "code",
   "execution_count": null,
   "id": "f61533e3",
   "metadata": {
    "execution": {
     "iopub.execute_input": "2025-04-21T17:00:28.267811Z",
     "iopub.status.busy": "2025-04-21T17:00:28.267354Z",
     "iopub.status.idle": "2025-04-21T17:00:28.777561Z",
     "shell.execute_reply": "2025-04-21T17:00:28.776689Z"
    }
   },
   "outputs": [],
   "source": [
    "import polars as pl\n",
    "import numpy as np\n",
    "\n",
    "# Example DataFrame\n",
    "df = pl.DataFrame({\n",
    "    'a': [1, 2, 3],\n",
    "    'b': [4.0, 5.0, 6.0],\n",
    "    'c': ['x', 'y', 'z']\n",
    "})\n",
    "\n",
    "# to_arrow\n",
    "arrow_tbl = df.to_arrow()\n",
    "print('Arrow Table:', arrow_tbl)\n",
    "\n",
    "# to_numpy\n",
    "np_arr = df.to_numpy()\n",
    "print('NumPy array:\\n', np_arr)\n",
    "\n",
    "# to_dict\n",
    "as_dict = df.to_dict()\n",
    "print('Dict:\\n', as_dict)\n",
    "\n",
    "# to_struct (returns a Series of structs)\n",
    "struct_col = df.to_struct()\n",
    "print('Struct Series:\\n', struct_col)\n"
   ]
  }
 ],
 "metadata": {
  "kernelspec": {
   "display_name": "Python 3",
   "language": "python",
   "name": "python3"
  },
  "language_info": {
   "codemirror_mode": {
    "name": "ipython",
    "version": 3
   },
   "file_extension": ".py",
   "mimetype": "text/x-python",
   "name": "python",
   "nbconvert_exporter": "python",
   "pygments_lexer": "ipython3",
   "version": "3.9.0"
  }
 },
 "nbformat": 4,
 "nbformat_minor": 5
}
